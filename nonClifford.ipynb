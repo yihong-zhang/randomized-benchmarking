{
 "cells": [
  {
   "cell_type": "markdown",
   "id": "78c8348c",
   "metadata": {},
   "source": [
    "## Fast Benchmarking and Character Cycle Benchmarking for Non-Clifford Gate\n",
    "#### Yihong Zhang"
   ]
  },
  {
   "cell_type": "markdown",
   "id": "f6d540f7",
   "metadata": {},
   "source": [
    "## Pre-setting\n",
    "### 1) basic function definition"
   ]
  },
  {
   "cell_type": "code",
   "execution_count": 1,
   "id": "edcc1c93",
   "metadata": {},
   "outputs": [
    {
     "name": "stdout",
     "output_type": "stream",
     "text": [
      "Populating the interactive namespace from numpy and matplotlib\n"
     ]
    }
   ],
   "source": [
    "# -*- coding: utf-8 -*-\n",
    "\"\"\"\n",
    "author: YihongZhang\n",
    "\"\"\"\n",
    "%pylab inline\n",
    "%matplotlib inline\n",
    "import numpy as np\n",
    "import qutip as qt\n",
    "import qutip.qip.circuit as qtcir\n",
    "from qutip.qip.operations.gates import qubit_clifford_group\n",
    "import qiskit as qk\n",
    "import scipy as sp\n",
    "import random as Random\n",
    "import heapq as hp\n",
    "from functools import reduce\n",
    "import matplotlib.pyplot as plt\n",
    "from scipy.optimize import curve_fit\n",
    "from scipy.linalg import sqrtm\n",
    "\n",
    "#def func(x, p, A, B):\n",
    "#    return A * (p ** x) + B\n",
    "\n",
    "def func(x, p, A):\n",
    "    return A * (p ** x)\n",
    "\n",
    "def chop(expr, delta=10**-10):\n",
    "    return np.ma.masked_inside(expr, -delta, delta).filled(0)\n",
    "\n",
    "#np.set_printoptions(threshold=np.inf)  #Full display the matrix"
   ]
  },
  {
   "cell_type": "markdown",
   "id": "083718fb",
   "metadata": {},
   "source": [
    "### 2) generation for $n$-qubit Pauli group"
   ]
  },
  {
   "cell_type": "code",
   "execution_count": 2,
   "id": "9e139b76",
   "metadata": {},
   "outputs": [],
   "source": [
    "#1-qubit Pauli group\n",
    "Pauli1Q = [qt.identity(2), qt.sigmax(), qt.sigmay(), qt.sigmaz()]\n",
    "\n",
    "def number_convert(initial_num, notation_num, length):\n",
    "    temp = []\n",
    "    while True:\n",
    "        quotient = initial_num // notation_num\n",
    "        remainder = initial_num % notation_num\n",
    "        temp = temp + [remainder]\n",
    "        if quotient == 0:\n",
    "            break\n",
    "        initial_num = quotient\n",
    "    result = np.zeros(max(length, len(temp)), int8)\n",
    "    for i in range(len(temp)):\n",
    "        result[- 1 - i] = temp[i]\n",
    "    return result\n",
    "\n",
    "def local_group(num_qubit, singleQubit_group):\n",
    "    temp = []\n",
    "    num_group = len(singleQubit_group)\n",
    "    if num_qubit > 1:\n",
    "        for i in range(num_group ** num_qubit):\n",
    "            seq = number_convert(i, num_group, num_qubit)\n",
    "            temp_gate = singleQubit_group[seq[0]]\n",
    "            for j in range(num_qubit - 1):\n",
    "                temp_gate = qt.tensor(temp_gate, singleQubit_group[seq[j + 1]])\n",
    "            temp.append(temp_gate)\n",
    "    else:\n",
    "        temp = singleQubit_group\n",
    "    return temp"
   ]
  },
  {
   "cell_type": "markdown",
   "id": "99c912be",
   "metadata": {},
   "source": [
    "### 3) transformation between computational basis and super-operator rep"
   ]
  },
  {
   "cell_type": "code",
   "execution_count": 3,
   "id": "08603448",
   "metadata": {},
   "outputs": [],
   "source": [
    "def state_to_superrep(pure_state, rep_space):\n",
    "    d = pure_state.shape[0]\n",
    "    density_matrix = qt.ket2dm(pure_state)\n",
    "    temp = np.zeros((len(rep_space), 1))\n",
    "    for i in range(len(rep_space)):\n",
    "        temp[i, 0] = (rep_space[i].dag() * density_matrix).tr() / np.sqrt(d)\n",
    "    return temp\n",
    "\n",
    "def measure_to_superrep(measure_basis, rep_space):\n",
    "    d = measure_basis.shape[0]\n",
    "    temp = np.zeros((1, len(rep_space)))\n",
    "    for i in range(len(rep_space)):\n",
    "        temp[0, i] = (measure_basis.dag() * rep_space[i]).tr() / np.sqrt(d)\n",
    "    return temp\n",
    "\n",
    "def channel_to_superrep(element, rep_space):\n",
    "    temp = np.zeros((len(rep_space), len(rep_space)))\n",
    "    for i in range(len(rep_space)):\n",
    "        for j in range(len(rep_space)):\n",
    "            temp[i, j] = (rep_space[i].dag() * element * rep_space[j] * element.dag()).tr()\n",
    "    return temp\n",
    "\n",
    "def superrep_to_choi(channel_superrep):\n",
    "    num_qubit = int(math.log(len(channel_superrep), 4))\n",
    "    temp = 0\n",
    "    Pauli = local_group(num_qubit, Pauli1Q)\n",
    "    for i in range(len(Pauli)):\n",
    "        for j in range(len(Pauli)):\n",
    "            temp = temp + channel_superrep[i, j] * qt.tensor(Pauli[i].trans(), Pauli[j])\n",
    "    return temp / (4**num_qubit)\n",
    "\n",
    "def dep_superrep(t, p, num_qubit):\n",
    "    temp = np.zeros((4**num_qubit, 4**num_qubit))\n",
    "    temp[0, 0] = t\n",
    "    for i in range(4**num_qubit - 1):\n",
    "        temp[i + 1, i + 1] = p\n",
    "    return temp\n",
    "\n",
    "def PauliChan_surerrep(pauli_eigvals):\n",
    "    if(len(pauli_eigvals) != 4**num_qubit - 1):\n",
    "        print('The number of input Pauli eigenvalues are wrong.')\n",
    "        return\n",
    "    temp = np.zeros((4**num_qubit, 4**num_qubit))\n",
    "    temp[0, 0] = 1\n",
    "    for i in range(4**num_qubit - 1):\n",
    "        temp[i + 1, i + 1] = pauli_eigvals[i]\n",
    "    return temp\n",
    "\n",
    "def local_group_superrep(num_qubit, singleQubit_group):\n",
    "    temp = []\n",
    "    group_superrep = []\n",
    "    num_group = len(singleQubit_group)\n",
    "    for i in range(num_group):\n",
    "        group_superrep.append(unitary_superrep(singleQubit_group[i], Pauli1Q))\n",
    "    for i in range(num_group ** num_qubit):\n",
    "        seq = number_convert(i, num_group, num_qubit)\n",
    "        temp_gate = 1\n",
    "        for j in range(num_qubit):\n",
    "            temp_gate = np.kron(temp_gate, group_superrep[seq[j]])\n",
    "        temp.append(temp_gate)\n",
    "    return temp\n",
    "\n",
    "def unitary_superrep(unitary, rep_space):\n",
    "    d = unitary.shape[0]\n",
    "    temp = np.zeros((len(rep_space), len(rep_space)))\n",
    "    #temp = np.zeros((len(rep_space), len(rep_space)), dtype=complex)\n",
    "    for i in range(len(rep_space)):\n",
    "        for j in range(len(rep_space)):\n",
    "            temp[i, j] = chop(((rep_space[i].dag() / np.sqrt(d)) * unitary * (rep_space[j] / np.sqrt(d)) * unitary.dag()).tr().real)\n",
    "            #temp[i, j] = chop(((rep_space[i].dag() / np.sqrt(d)) * unitary * (rep_space[j] / np.sqrt(d)) * unitary.dag()).tr())\n",
    "    return temp\n",
    "\n",
    "def twirling(channel_superrep, group_superrep):\n",
    "    num_qubit = int(math.log(len(group_superrep[0]), 4))\n",
    "    temp = 0\n",
    "    for i in range(len(group_superrep)):\n",
    "        temp += np.dot(np.dot(group_superrep[i].conj().T, channel_superrep), group_superrep[i])\n",
    "    temp /= len(group_superrep)\n",
    "    return temp\n",
    "\n",
    "def process_fidelity(channel_superrep):\n",
    "    return np.trace(channel_superrep) / len(channel_superrep)\n",
    "\n",
    "def sqrt_fidelity(channel_superrep):\n",
    "    val, vec = np.linalg.eig(channel_superrep)\n",
    "    init_channel = np.diag(val)\n",
    "    return np.trace(np.sqrt(init_channel)) / len(val)"
   ]
  },
  {
   "cell_type": "markdown",
   "id": "fac8a7a9",
   "metadata": {},
   "source": [
    "## Error model definition and some basic process function definition\n",
    "### 1) error channel for local Pauli group\n",
    "\n",
    "A noisy 1-qubit gate can be described by\n",
    "\\begin{equation}\n",
    "\\tilde{\\mathcal{G}} = \\mathcal{G} \\circ \\Lambda_{Rz} \\circ \\Lambda_{1dep},\n",
    "\\end{equation}\n",
    "where\n",
    "\\begin{equation}\n",
    "\\begin{split}\n",
    "&\\Lambda_{Rz} = Rz(\\theta), \\\\\n",
    "&\\Lambda_{1dep}(\\rho) = p_1\\rho + (t_1-p_1)\\frac{I}{d_1}, d_1 = 2.\n",
    "\\end{split}\n",
    "\\end{equation}"
   ]
  },
  {
   "cell_type": "code",
   "execution_count": 4,
   "id": "f448dfe6",
   "metadata": {},
   "outputs": [
    {
     "name": "stdout",
     "output_type": "stream",
     "text": [
      "The theoretic process fidelity for the gate of local Pauli group is 0.9975999911110396\n"
     ]
    }
   ],
   "source": [
    "num_qubit = 2\n",
    "Pauli_group = local_group(num_qubit, Pauli1Q)\n",
    "\n",
    "theta_list = np.arange(0.001, 0.001 + num_qubit * 0.001, 0.001)\n",
    "t_list = np.zeros(num_qubit) + 1\n",
    "p_list = np.arange(0.999, 0.999 - num_qubit * 0.0012, - 0.0012)\n",
    "#p_list = [0.998, 0.5]\n",
    "phase_chan = []\n",
    "dep_chan = []\n",
    "chan_list = []\n",
    "Pauli_channel = 1\n",
    "for i in range(num_qubit):\n",
    "    temp_phase = unitary_superrep(qtcir.rz(theta_list[i]), Pauli1Q)\n",
    "    temp_dep = dep_superrep(t_list[i], p_list[i], 1)\n",
    "    phase_chan.append(temp_phase)\n",
    "    dep_chan.append(temp_dep)\n",
    "    chan_list.append(np.dot(temp_phase, temp_dep))\n",
    "    Pauli_channel = np.kron(chan_list[i], Pauli_channel)\n",
    "\n",
    "print('The theoretic process fidelity for the gate of local Pauli group is', process_fidelity(Pauli_channel))"
   ]
  },
  {
   "cell_type": "markdown",
   "id": "96ea091e",
   "metadata": {},
   "source": [
    "### 2) SPAM error channel\n",
    "\n",
    "SPAM error channel is similar to the Pauli channel, here we treat them as the same."
   ]
  },
  {
   "cell_type": "code",
   "execution_count": 5,
   "id": "80fbc26f",
   "metadata": {},
   "outputs": [
    {
     "name": "stdout",
     "output_type": "stream",
     "text": [
      "The theoretic process fidelity for the gate of SPAM group is 0.9972518089119731\n"
     ]
    }
   ],
   "source": [
    "theta_SPAM_list = np.arange(0.01, 0.01 + num_qubit * 0.01, 0.01)\n",
    "t_SPAM_list = np.zeros(num_qubit) + 1\n",
    "p_SPAM_list = np.arange(0.999, 0.999 - num_qubit * 0.0015, - 0.0015)\n",
    "phase_SPAM_chan = []\n",
    "dep_SPAM_chan = []\n",
    "chan_SPAM_list = []\n",
    "SPAM_channel = 1\n",
    "for i in range(num_qubit):\n",
    "    temp_phase = unitary_superrep(qtcir.rz(theta_SPAM_list[i]), Pauli1Q)\n",
    "    temp_dep = dep_superrep(t_SPAM_list[i], p_SPAM_list[i], 1)\n",
    "    phase_SPAM_chan.append(temp_phase)\n",
    "    dep_SPAM_chan.append(temp_dep)\n",
    "    chan_SPAM_list.append(np.dot(temp_phase, temp_dep))\n",
    "    SPAM_channel = np.kron(chan_SPAM_list[i], SPAM_channel)\n",
    "\n",
    "print('The theoretic process fidelity for the gate of SPAM group is', process_fidelity(SPAM_channel))"
   ]
  },
  {
   "cell_type": "markdown",
   "id": "782935bf",
   "metadata": {},
   "source": [
    "### 3) 2-qubit non-Clifford gate and its error channel"
   ]
  },
  {
   "cell_type": "code",
   "execution_count": 6,
   "id": "f120ab9a",
   "metadata": {},
   "outputs": [
    {
     "data": {
      "text/plain": [
       "True"
      ]
     },
     "execution_count": 6,
     "metadata": {},
     "output_type": "execute_result"
    }
   ],
   "source": [
    "cnot = qtcir.cnot()\n",
    "sqrtT1 = qt.tensor(qtcir.identity(2), qtcir.rz(pi/16))\n",
    "sqrtT2 = qt.tensor(qtcir.identity(2), qtcir.rz(-pi/16))\n",
    "X12 = qt.tensor(qt.sigmax(), qt.sigmax())\n",
    "target_gate = sqrtT1 * cnot * sqrtT2\n",
    "\n",
    "Tgate = qtcir.rz(pi/8)\n",
    "target_gate == qtcir.controlled_gate(Tgate, N=2, control=0, target=1) * cnot"
   ]
  },
  {
   "cell_type": "markdown",
   "id": "29e4ad93",
   "metadata": {},
   "source": [
    "A noisy 2-qubit non-Clifford gate can by decribed by\n",
    "\\begin{equation}\n",
    "\\tilde{C} = C \\circ \\Lambda_{U},\n",
    "\\end{equation}\n",
    "where\n",
    "\\begin{equation}\n",
    "\\Lambda_U = \\Lambda_{co} \\circ \\Lambda_{dep},\n",
    "\\end{equation}\n",
    "here $\\Lambda_{co}$ is the coherent error, $\\Lambda_{dep}$ is the depolarizing channel. We have\n",
    "\\begin{equation}\n",
    "\\begin{split}\n",
    "& \\Lambda_{co} = \\mathrm{expm}(ic \\mathrm{SWAP}_{12}), \\\\\n",
    "& \\Lambda_{dep}(\\rho) = p\\rho + (t-p)\\frac{I}{d}, d = 2^2.\n",
    "\\end{split}\n",
    "\\end{equation}"
   ]
  },
  {
   "cell_type": "code",
   "execution_count": 416,
   "id": "dc870ad7",
   "metadata": {},
   "outputs": [],
   "source": [
    "#parameters setting\n",
    "[set_fidelity, set_var] = [0.97, 0.001]\n",
    "def Pauli_eig(set_fidelity, set_var, num_qubit):\n",
    "    temp_eig = np.random.normal(loc = set_fidelity, scale = set_var, size = 4**num_qubit - 1)\n",
    "    for i in range(4**num_qubit - 1):\n",
    "        if(temp_eig[i] > 1):\n",
    "            temp_eig[i] = 0.9999\n",
    "    return temp_eig\n",
    "#Pauli_chan = PauliChan_surerrep(Pauli_eig(set_fidelity, set_var, num_qubit))\n",
    "\n",
    "p_target_list = np.arange(0.999, 0.999 - (4**num_qubit - 1) * 0.004 + 0.0001, - 0.004)\n",
    "Pauli_chan = PauliChan_surerrep(p_target_list)\n",
    "\n",
    "c = 0.01\n",
    "channel_co = (1j * c * qtcir.swap()).expm()\n",
    "channel_co_superrep = unitary_superrep(channel_co, Pauli_group)\n",
    "\n",
    "#TargetGate_channel = np.dot(channel_co_superrep, Pauli_chan)\n",
    "#print('The theoretic process fidelity for the target clifford gate is', process_fidelity(TargetGate_channel))"
   ]
  },
  {
   "cell_type": "markdown",
   "id": "6b6cbe1b",
   "metadata": {},
   "source": [
    "#### fidelity information"
   ]
  },
  {
   "cell_type": "code",
   "execution_count": 16,
   "id": "15222045",
   "metadata": {},
   "outputs": [
    {
     "name": "stdout",
     "output_type": "stream",
     "text": [
      "The fidelity of the error channel is 0.9704191806551774\n",
      "The fidelity of the interleaved error channel is 0.9703288769037108\n"
     ]
    }
   ],
   "source": [
    "channel = np.dot(Pauli_channel, TargetGate_channel)\n",
    "ini_fidelity = process_fidelity(channel)\n",
    "print('The fidelity of the error channel is', ini_fidelity)\n",
    "\n",
    "channel_Pauli_twirling = twirling(channel, twirling_group)\n",
    "inter_channel = sqrtm(chop(np.dot(channel_Pauli_twirling, np.dot(np.dot(int_gate, channel_Pauli_twirling), int_gate.T.conjugate()))))\n",
    "inter_fidelity = np.trace(inter_channel) / 4**num_qubit\n",
    "print('The fidelity of the interleaved error channel is', inter_fidelity)"
   ]
  },
  {
   "cell_type": "markdown",
   "id": "71821578",
   "metadata": {},
   "source": [
    "### 3) SPAM settings"
   ]
  },
  {
   "cell_type": "code",
   "execution_count": 7,
   "id": "20c55ade",
   "metadata": {},
   "outputs": [],
   "source": [
    "[X_state0, X_state1] = [(qt.ket(\"0\") + qt.ket(\"1\")).unit(), (qt.ket(\"0\") - qt.ket(\"1\")).unit()]\n",
    "[Y_state0, Y_state1] = [(qt.ket(\"0\") + 1j * qt.ket(\"1\")).unit(), (qt.ket(\"0\") - 1j * qt.ket(\"1\")).unit()]\n",
    "[Z_state0, Z_state1] = [qt.ket(\"0\"), qt.ket(\"1\")]\n",
    "\n",
    "class SPAM_setting:\n",
    "    \n",
    "    def __init__(self, basis_setting):\n",
    "        self.setting = basis_setting\n",
    "        self.num = len(basis_setting)\n",
    "        self.initial_state = np.zeros(4**self.num)\n",
    "        self.measure_observable = np.zeros(4**self.num)\n",
    "        self.measure_basis = []\n",
    "        self.Allmeasure_basis_result = []\n",
    "    \n",
    "    def add_initial_state(self):\n",
    "        temp = 1\n",
    "        for i in range(self.num):\n",
    "            if self.setting[i] == 'I':\n",
    "                temp = np.kron(temp, state_to_superrep(Z_state0, Pauli1Q))\n",
    "            elif self.setting[i] == 'X':\n",
    "                temp = np.kron(temp, state_to_superrep(X_state0, Pauli1Q))\n",
    "            elif self.setting[i] == 'Y':\n",
    "                temp = np.kron(temp, state_to_superrep(Y_state0, Pauli1Q))\n",
    "            elif self.setting[i] == 'Z':\n",
    "                temp = np.kron(temp, state_to_superrep(Z_state0, Pauli1Q))\n",
    "            else:\n",
    "                print('The input format is wrong.')\n",
    "        self.initial_state = temp\n",
    "    \n",
    "    def add_measure_observable(self):\n",
    "        temp = 1\n",
    "        for i in range(self.num):\n",
    "            if self.setting[i] == 'I':\n",
    "                temp = np.kron(temp, measure_to_superrep(qt.identity(2), Pauli1Q))\n",
    "            elif self.setting[i] == 'X':\n",
    "                temp = np.kron(temp, measure_to_superrep(qt.sigmax(), Pauli1Q))\n",
    "            elif self.setting[i] == 'Y':\n",
    "                temp = np.kron(temp, measure_to_superrep(qt.sigmay(), Pauli1Q))\n",
    "            elif self.setting[i] == 'Z':\n",
    "                temp = np.kron(temp, measure_to_superrep(qt.sigmaz(), Pauli1Q))\n",
    "            else:\n",
    "                print('The input format is wrong.')\n",
    "        self.measure_observable = temp\n",
    "    \n",
    "    def add_measure_basis(self):\n",
    "        temp_setting = []\n",
    "        order = np.zeros(self.num)\n",
    "        for i in range(self.num):\n",
    "            if self.setting[i] == 'X':\n",
    "                order[i] = 1\n",
    "                temp_setting.append([[measure_to_superrep(qt.ket2dm(X_state0), Pauli1Q), 1], [measure_to_superrep(qt.ket2dm(X_state1), Pauli1Q), -1]])\n",
    "            elif self.setting[i] == 'Y':\n",
    "                order[i] = 1\n",
    "                temp_setting.append([[measure_to_superrep(qt.ket2dm(Y_state0), Pauli1Q), 1], [measure_to_superrep(qt.ket2dm(Y_state1), Pauli1Q), -1]])\n",
    "            elif self.setting[i] == 'Z':\n",
    "                order[i] = 1\n",
    "                temp_setting.append([[measure_to_superrep(qt.ket2dm(Z_state0), Pauli1Q), 1], [measure_to_superrep(qt.ket2dm(Z_state1), Pauli1Q), -1]])\n",
    "        for j in range(2**int(sum(order))):\n",
    "            temp_state = 1\n",
    "            temp_measure_result = 1\n",
    "            temp_order = 0\n",
    "            seq = number_convert(j, 2, int(sum(order)))\n",
    "            for k in range(self.num):\n",
    "                if order[k] == 1:\n",
    "                    temp_state = np.kron(temp_state, temp_setting[temp_order][seq[temp_order]][0])\n",
    "                    temp_measure_result *= temp_setting[temp_order][seq[temp_order]][1]\n",
    "                    temp_order += 1\n",
    "                else:\n",
    "                    temp_state = np.kron(temp_state, measure_to_superrep(qt.identity(2), Pauli1Q))\n",
    "            self.measure_basis.append([temp_state, temp_measure_result])\n",
    "            \n",
    "    def measure_basis_result(self):\n",
    "        temp_setting = []\n",
    "        for i in range(self.num):\n",
    "            if self.setting[i] == 'X':\n",
    "                temp_setting.append([[measure_to_superrep(qt.ket2dm(X_state0), Pauli1Q), 1], [measure_to_superrep(qt.ket2dm(X_state1), Pauli1Q), -1]])\n",
    "            elif self.setting[i] == 'Y':\n",
    "                temp_setting.append([[measure_to_superrep(qt.ket2dm(Y_state0), Pauli1Q), 1], [measure_to_superrep(qt.ket2dm(Y_state1), Pauli1Q), -1]])\n",
    "            elif self.setting[i] == 'Z':\n",
    "                temp_setting.append([[measure_to_superrep(qt.ket2dm(Z_state0), Pauli1Q), 1], [measure_to_superrep(qt.ket2dm(Z_state1), Pauli1Q), -1]])\n",
    "            else:\n",
    "                print('The measurement basis is not complete.')\n",
    "        for j in range(2**self.num):\n",
    "            temp_state = 1\n",
    "            temp_measure_result = []\n",
    "            seq = number_convert(j, 2, self.num)\n",
    "            for k in range(self.num):\n",
    "                temp_state = np.kron(temp_state, temp_setting[k][seq[k]][0])\n",
    "                temp_measure_result.append(temp_setting[k][seq[k]][1])\n",
    "            self.Allmeasure_basis_result.append([temp_state, temp_measure_result])"
   ]
  },
  {
   "cell_type": "markdown",
   "id": "27476c6d",
   "metadata": {},
   "source": [
    "### 4) Quantum process function"
   ]
  },
  {
   "cell_type": "code",
   "execution_count": 13,
   "id": "60e586f0",
   "metadata": {},
   "outputs": [],
   "source": [
    "sqrtT1_superrep = unitary_superrep(sqrtT1, Pauli_group)\n",
    "sqrtT2_superrep = unitary_superrep(sqrtT2, Pauli_group)\n",
    "\n",
    "# generation of local clifford group\n",
    "cliff1Q_generator = qubit_clifford_group(1,0)\n",
    "Clifford1Q = []\n",
    "for i in range(24):\n",
    "    Clifford1Q.append(cliff1Q_generator.__next__())\n",
    "Clifford_superrep = local_group_superrep(num_qubit, Clifford1Q)\n",
    "num_Clifford = len(Clifford_superrep)\n",
    "Clifford_twirling = []\n",
    "for i in range(num_Clifford):\n",
    "    Clifford_twirling.append(chop(np.dot(np.dot(sqrtT1_superrep, Clifford_superrep[i]), sqrtT2_superrep)))\n",
    "\n",
    "Pauli_superrep = local_group_superrep(num_qubit, Pauli1Q)\n",
    "num_twirling = len(Pauli_superrep)\n",
    "twirling_group = []\n",
    "for i in range(num_twirling):\n",
    "    twirling_group.append(chop(np.dot(np.dot(sqrtT1_superrep, Pauli_superrep[i]), sqrtT2_superrep)))\n",
    "\n",
    "int_gate = unitary_superrep(target_gate, Pauli_group)\n",
    "#int_gate_channel = TargetGate_channel\n",
    "ref_gate_channel = Pauli_channel"
   ]
  },
  {
   "cell_type": "markdown",
   "id": "a486825d",
   "metadata": {},
   "source": [
    "#### RB process"
   ]
  },
  {
   "cell_type": "code",
   "execution_count": 9,
   "id": "fa02f1e9",
   "metadata": {},
   "outputs": [],
   "source": [
    "class RB_process:\n",
    "    \n",
    "    def __init__(self, seq_length, int_gate, SPAM_channel, ref_gate_channel, int_gate_channel):\n",
    "        self.seq_length = seq_length\n",
    "        self.int_gate = int_gate\n",
    "        self.SPAM_channel = SPAM_channel\n",
    "        self.ref_gate_channel = ref_gate_channel\n",
    "        self.int_gate_channel = int_gate_channel\n",
    "        \n",
    "        self.full_process = []\n",
    "        self.full_character = []\n",
    "        self.fast_process = []\n",
    "        self.XEB_process = []\n",
    "        self.XEB_gate = []\n",
    "        \n",
    "    def compute_full_process(self):\n",
    "        sample_num0 = Random.randrange(0, num_twirling)\n",
    "        sample_ideal_process0 = twirling_group[sample_num0]\n",
    "        sample_ideal_process = 1\n",
    "        sample_noisy_process = np.dot(self.SPAM_channel, sample_ideal_process0)\n",
    "        for i in range(self.seq_length):\n",
    "            sample_num = Random.randrange(0, num_twirling)\n",
    "            sample_noisy_process = np.dot(np.dot(self.ref_gate_channel, twirling_group[sample_num]), sample_noisy_process)\n",
    "            sample_noisy_process = np.dot(np.dot(self.int_gate, self.int_gate_channel), sample_noisy_process)\n",
    "            sample_ideal_process = np.dot(self.int_gate, np.dot(twirling_group[sample_num], sample_ideal_process))\n",
    "        sample_noisy_process = np.dot(self.SPAM_channel, np.dot(sample_ideal_process.T.conj(), sample_noisy_process))\n",
    "        self.full_process = sample_noisy_process\n",
    "        self.full_character = sample_ideal_process0\n",
    "    \n",
    "    def compute_fast_process(self):\n",
    "        clifford_num = Random.randrange(0, num_Clifford)\n",
    "        dressed_clifford = Clifford_twirling[clifford_num]\n",
    "        sample_ideal_process = dressed_clifford\n",
    "        sample_noisy_process = dressed_clifford\n",
    "        for i in range(self.seq_length):\n",
    "            sample_num = Random.randrange(0, num_twirling)\n",
    "            sample_noisy_process = np.dot(np.dot(self.ref_gate_channel, twirling_group[sample_num]), sample_noisy_process)\n",
    "            sample_noisy_process = np.dot(np.dot(self.int_gate, self.int_gate_channel), sample_noisy_process)\n",
    "            sample_ideal_process = np.dot(self.int_gate, np.dot(twirling_group[sample_num], sample_ideal_process))\n",
    "        sample_noisy_process = np.dot(sample_ideal_process.T.conj(), sample_noisy_process)\n",
    "        self.fast_process = sample_noisy_process\n",
    "        \n",
    "    def compute_XEB_process(self):\n",
    "        sample_ideal_process = 1\n",
    "        sample_noisy_process = 1\n",
    "        for i in range(self.seq_length):\n",
    "            sample_num = Random.randrange(0, num_Clifford)\n",
    "            sample_noisy_process = np.dot(np.dot(self.ref_gate_channel, Clifford_twirling[sample_num]), sample_noisy_process)\n",
    "            sample_noisy_process = np.dot(np.dot(self.int_gate, self.int_gate_channel), sample_noisy_process)\n",
    "            sample_ideal_process = np.dot(self.int_gate, np.dot(Clifford_twirling[sample_num], sample_ideal_process))\n",
    "        self.XEB_process = sample_noisy_process\n",
    "        self.XEB_gate = sample_ideal_process"
   ]
  },
  {
   "cell_type": "markdown",
   "id": "352c5e03",
   "metadata": {},
   "source": [
    "### 5) Measurement function"
   ]
  },
  {
   "cell_type": "code",
   "execution_count": 10,
   "id": "e9952d2a",
   "metadata": {},
   "outputs": [],
   "source": [
    "def basis_order_to_setting(order, num_qubit):\n",
    "    order_array = number_convert(order, 4, num_qubit)\n",
    "    basis_setting = ''\n",
    "    for i in range(num_qubit):\n",
    "        if order_array[i] == 0:\n",
    "            basis_setting += 'I'\n",
    "        elif order_array[i] == 1:\n",
    "            basis_setting += 'X'\n",
    "        elif order_array[i] == 2:\n",
    "            basis_setting += 'Y'\n",
    "        elif order_array[i] == 3:\n",
    "            basis_setting += 'Z'\n",
    "        else:\n",
    "            print('The basis converted number is wrong.')\n",
    "    return basis_setting\n",
    "\n",
    "class RB_measure:\n",
    "    \n",
    "    def __init__(self, quantum_process):\n",
    "        self.process = quantum_process\n",
    "        self.full_prob = -1\n",
    "        self.fast_prob = []\n",
    "        self.XEB_prob = -1\n",
    "        \n",
    "    def compute_full_prob(self, character_gate, character_order):\n",
    "        basis = SPAM_setting(basis_order_to_setting(character_order, num_qubit))\n",
    "        basis.add_initial_state()\n",
    "        basis.add_measure_observable()\n",
    "        state = np.dot(sqrtT1_superrep, basis.initial_state)\n",
    "        observable = np.dot(basis.measure_observable, sqrtT2_superrep)\n",
    "        prob = character_gate[character_order, character_order] * np.dot(observable, np.dot(self.process, state))\n",
    "        self.full_prob = prob[0][0]\n",
    "    \n",
    "    def compute_fast_prob(self):\n",
    "        for i in range(2**num_qubit - 1):\n",
    "            temp_basis = number_convert(i + 1, 2, num_qubit)\n",
    "            temp_order = 0\n",
    "            for j in range(num_qubit):\n",
    "                temp_order += 3 * temp_basis[-j-1] * (4**j)\n",
    "            basis = SPAM_setting(basis_order_to_setting(temp_order, num_qubit))\n",
    "            basis.add_initial_state()\n",
    "            basis.add_measure_observable()\n",
    "            state = np.dot(sqrtT1_superrep, basis.initial_state)\n",
    "            observable = np.dot(basis.measure_observable, sqrtT2_superrep)\n",
    "            prob = np.dot(observable, np.dot(self.process, state))\n",
    "            self.fast_prob.append(prob[0][0])\n",
    "            \n",
    "    def compute_XEB_prob(self):\n",
    "        temp_order = 0\n",
    "        for j in range(num_qubit):\n",
    "            temp_order += 3 * (4**j)\n",
    "        basis = SPAM_setting(basis_order_to_setting(temp_order, num_qubit))\n",
    "        basis.add_initial_state()\n",
    "        basis.add_measure_observable()\n",
    "        prob = np.dot(basis.measure_observable, np.dot(self.process, basis.initial_state))\n",
    "        self.XEB_prob = prob[0][0]"
   ]
  },
  {
   "cell_type": "markdown",
   "id": "82a1b063",
   "metadata": {},
   "source": [
    "### 6) Experiment simulation"
   ]
  },
  {
   "cell_type": "code",
   "execution_count": 11,
   "id": "69c1c1a1",
   "metadata": {},
   "outputs": [],
   "source": [
    "class RB_experiment:\n",
    "    \n",
    "    def __init__(self, num_seq, seq_length, int_gate, SPAM_channel, ref_gate_channel, int_gate_channel):\n",
    "        self.num_seq = num_seq\n",
    "        self.seq_length = seq_length\n",
    "        self.int_gate = int_gate\n",
    "        self.SPAM_channel = SPAM_channel\n",
    "        self.ref_gate_channel = ref_gate_channel\n",
    "        self.int_gate_channel = int_gate_channel\n",
    "        \n",
    "        self.full_ave_prob_order = -1\n",
    "        self.fast_ave_prob = -1\n",
    "        self.XEB_ave_prob = -1\n",
    "    \n",
    "    def full_simulation(self, character_order):\n",
    "        temp = []\n",
    "        for i in range(self.num_seq):\n",
    "            process = RB_process(self.seq_length, self.int_gate, self.SPAM_channel, self.ref_gate_channel, self.int_gate_channel)\n",
    "            process.compute_full_process()\n",
    "            measure = RB_measure(process.full_process)\n",
    "            measure.compute_full_prob(process.full_character, character_order)\n",
    "            temp.append(measure.full_prob)\n",
    "        self.full_ave_prob_order = np.mean(temp)\n",
    "    \n",
    "    def fast_simulation(self):\n",
    "        temp = []\n",
    "        for i in range(self.num_seq):\n",
    "            process = RB_process(self.seq_length, self.int_gate, self.SPAM_channel, self.ref_gate_channel, self.int_gate_channel)\n",
    "            process.compute_fast_process()\n",
    "            measure = RB_measure(process.fast_process)\n",
    "            measure.compute_fast_prob()\n",
    "            temp.append(measure.fast_prob)\n",
    "        self.fast_ave_prob = np.array(temp).mean(axis = 0)\n",
    "    \n",
    "    def XEB_simulation(self):\n",
    "        temp = []\n",
    "        for i in range(self.num_seq):\n",
    "            process = RB_process(self.seq_length, self.int_gate, self.SPAM_channel, self.ref_gate_channel, self.int_gate_channel)\n",
    "            process.compute_XEB_process()\n",
    "            measure = RB_measure(process.XEB_process)\n",
    "            measure.compute_XEB_prob()\n",
    "            temp.append(measure.XEB_prob)\n",
    "        self.XEB_ave_prob = np.mean(temp)\n",
    "        \n",
    "\n",
    "def twirling_ideal(channel, seq_length_total, character_order):\n",
    "    twirling_p = twirling(channel, twirling_group)[character_order, character_order]\n",
    "    twirling_temp = []\n",
    "    for l in range(seq_length_total):\n",
    "        twirling_temp.append(twirling_p ** (l + 1))\n",
    "    return twirling_temp"
   ]
  },
  {
   "cell_type": "markdown",
   "id": "a379ca00",
   "metadata": {},
   "source": [
    "### 7) Simulation\n",
    "#### (i) fitting method"
   ]
  },
  {
   "cell_type": "code",
   "execution_count": 412,
   "id": "d03cddee",
   "metadata": {},
   "outputs": [],
   "source": [
    "# calculate the survival probability for the CCB, FB fitting protocols\n",
    "# the calculations are determined by the Pauli irrep order\n",
    "def full_prob_order(num_seq, seq_length_total, seq_length_step, basis_order, int_gate, SPAM_channel, ref_gate_channel, int_gate_channel):\n",
    "    ave_prob = []\n",
    "    for l in range(2, seq_length_total + 2, seq_length_step):\n",
    "        experiment = RB_experiment(num_seq, l, int_gate, SPAM_channel, ref_gate_channel, int_gate_channel)\n",
    "        experiment.full_simulation(basis_order)\n",
    "        ave_prob.append(experiment.full_ave_prob_order)\n",
    "    return ave_prob\n",
    "\n",
    "def fullRB(num_irrep, num_seq, seq_length_total, seq_length_step, int_gate, SPAM_channel, ref_gate_channel, int_gate_channel):\n",
    "    result = []\n",
    "    for i in range(num_irrep):\n",
    "        temp_order = Random.randrange(1, 4 ** num_qubit - 1)\n",
    "        result.append(full_prob_order(num_seq, seq_length_total, seq_length_step, temp_order, int_gate, SPAM_channel, ref_gate_channel, int_gate_channel))\n",
    "    return np.array(result)\n",
    "\n",
    "def fastRB(num_seq, seq_length_total, seq_length_step, int_gate, SPAM_channel, ref_gate_channel, int_gate_channel):\n",
    "    ave_prob = []\n",
    "    for l in range(2, seq_length_total + 2, seq_length_step):\n",
    "        experiment = RB_experiment(num_seq, l, int_gate, SPAM_channel, ref_gate_channel, int_gate_channel)\n",
    "        experiment.fast_simulation()\n",
    "        ave_prob.append(experiment.fast_ave_prob)\n",
    "    return np.array(ave_prob).T\n",
    "\n",
    "def XEB(num_seq, seq_length_total, seq_length_step, int_gate, SPAM_channel, ref_gate_channel, int_gate_channel):\n",
    "    ave_prob = []\n",
    "    for l in range(2, seq_length_total + 2, seq_length_step):\n",
    "        experiment = RB_experiment(num_seq, l, int_gate, SPAM_channel, ref_gate_channel, int_gate_channel)\n",
    "        experiment.XEB_simulation()\n",
    "        ave_prob.append(experiment.XEB_ave_prob)\n",
    "    return ave_prob\n",
    "\n",
    "def RB_fitting(result, seq_length_step):\n",
    "    irrep_fidelity = []\n",
    "    num_irrep = len(result)\n",
    "    xdata = range(1, len(result[0]) * int(seq_length_step / 2) + 1, int(seq_length_step / 2))\n",
    "    for i in range(num_irrep):\n",
    "        popt_original, pcov_original = curve_fit(func, xdata, result[i], p0 = [1, 1])\n",
    "        irrep_fidelity.append(np.sqrt(popt_original[0]))\n",
    "    return irrep_fidelity\n",
    "\n",
    "def fullRB_fitting_analysis(num_exper, num_irrep, num_seq, seq_length_total, seq_length_step, int_gate, SPAM_channel, ref_gate_channel, int_gate_channel):\n",
    "    fitting_result = []\n",
    "    for i in range(num_exper):\n",
    "        temp_RB = fullRB(num_irrep, num_seq, seq_length_total, seq_length_step, int_gate, SPAM_channel, ref_gate_channel, int_gate_channel)\n",
    "        temp_fitting = RB_fitting(temp_RB, seq_length_step)\n",
    "        fitting_result.append((np.mean(temp_fitting) * (4 ** num_qubit - 1) + 1) / (4 ** num_qubit))\n",
    "        #print(i)\n",
    "    return fitting_result\n",
    "\n",
    "def fastRB_fitting_analysis(num_exper, num_seq, seq_length_total, seq_length_step, int_gate, SPAM_channel, ref_gate_channel, int_gate_channel):\n",
    "    FB_weight = []\n",
    "    for i in range(2**num_qubit - 1):\n",
    "        temp_basis = number_convert(i + 1, 2, num_qubit)\n",
    "        FB_weight.append(3 ** sum(temp_basis))\n",
    "    fitting_result = []\n",
    "    for i in range(num_exper):\n",
    "        temp_RB = fastRB(num_seq, seq_length_total, seq_length_step, int_gate, SPAM_channel, ref_gate_channel, int_gate_channel)\n",
    "        temp_fitting = RB_fitting(temp_RB, seq_length_step)\n",
    "        fitting_result.append((np.dot(FB_weight, temp_fitting) + 1) / (4 ** num_qubit))\n",
    "        #print(i)\n",
    "    return fitting_result\n",
    "\n",
    "def XEB_fitting_analysis(num_exper, num_seq, seq_length_total, seq_length_step, int_gate, SPAM_channel, ref_gate_channel, int_gate_channel):\n",
    "    fitting_result = []\n",
    "    for i in range(num_exper):\n",
    "        temp_RB = XEB(num_seq, seq_length_total, seq_length_step, int_gate, SPAM_channel, ref_gate_channel, int_gate_channel)\n",
    "    return 0\n",
    "\n",
    "\n",
    "def fast_fitting_pre(num_exper, num_seq, seq_length_total, seq_length_step, int_gate, SPAM_channel, ref_gate_channel, int_gate_channel):\n",
    "    plt.figure(figsize = (8, 6))\n",
    "    exp_res = []\n",
    "    for i in range(num_exper):\n",
    "        exp_res.append(fastRB(num_seq, seq_length_total, seq_length_step, int_gate, SPAM_channel, ref_gate_channel, int_gate_channel))\n",
    "        \n",
    "    temp_prob_ave = []\n",
    "    temp_prob_std = []\n",
    "    for i in range(2**num_qubit - 1):\n",
    "        temp_res = []\n",
    "        for j in range(num_exper):\n",
    "            temp_res.append(exp_res[j][i])\n",
    "        temp_prob_ave.append(np.array(temp_res).mean(axis = 0))\n",
    "        temp_prob_std.append(np.array(temp_res).std(axis = 0))\n",
    "    return [temp_prob_ave, temp_prob_std]\n",
    "\n",
    "def fast_fitting_figure(result, seq_length_step):\n",
    "    plt.figure(figsize = (8, 6))\n",
    "    xdata = range(2, len(result[0][0]) * seq_length_step + 2, seq_length_step)\n",
    "    \n",
    "    #IZ\n",
    "    popt_original_IZ, pcov_original_IZ = curve_fit(func, xdata, result[0][0], p0 = [1, 1])\n",
    "    y_IZ = [func(i, popt_original_IZ[0], popt_original_IZ[1]) for i in xdata]\n",
    "    plt.plot(xdata, y_IZ, color=\"b\", linewidth=2.0)  \n",
    "    plt.errorbar(xdata, result[0][0], yerr = result[1][0], fmt='o',ecolor='r',color='b',elinewidth=2,capsize=4)\n",
    "    \n",
    "    #ZI\n",
    "    popt_original_ZI, pcov_original_ZI = curve_fit(func, xdata, result[0][1], p0 = [1, 1])\n",
    "    y_ZI = [func(i, popt_original_ZI[0], popt_original_ZI[1]) for i in xdata]\n",
    "    plt.plot(xdata, y_ZI, color=\"green\", linewidth=2.0)\n",
    "    plt.errorbar(xdata, result[0][1], yerr = result[1][1], fmt='o',ecolor='r',color='green',elinewidth=4,capsize=4)\n",
    "    \n",
    "    \n",
    "    #ZZ\n",
    "    popt_original_ZZ, pcov_original_ZZ = curve_fit(func, xdata, result[0][2], p0 = [1, 1])\n",
    "    y_ZZ = [func(i, popt_original_ZZ[0], popt_original_ZZ[1]) for i in xdata]\n",
    "    plt.plot(xdata, y_ZZ, color=\"orange\", linewidth=2.0)\n",
    "    plt.errorbar(xdata, result[0][2], yerr = result[1][2], fmt='o',ecolor='r',color='orange',elinewidth=2,capsize=4)\n",
    "    \n",
    "    plt.xlabel(\"Sequence Length\", fontsize = 16)\n",
    "    plt.ylabel(\"Survival Probability\", fontsize = 16)\n",
    "    plt.xticks(fontsize = 12)\n",
    "    plt.yticks(fontsize = 12)\n",
    "    #plt.xlim((5.9, 6.1))\n",
    "    #plt.ylim((0.7, 0.73))\n",
    "    plt.legend([\"$\\lambda_{IZ}$\", \"$\\lambda_{ZI}$\", \"$\\lambda_{ZZ}$\"], loc = 'upper right') \n",
    "    plt.savefig('fast_fitting.pdf')"
   ]
  },
  {
   "cell_type": "markdown",
   "id": "beb31ae8",
   "metadata": {},
   "source": [
    "### Fitting simulation\n",
    "#### (1) [set_fidelity, set_var] = [0.98, 0.001]"
   ]
  },
  {
   "cell_type": "code",
   "execution_count": 385,
   "id": "d3b10ada",
   "metadata": {},
   "outputs": [],
   "source": [
    "seq_length_total = 51\n",
    "seq_length_step = 6"
   ]
  },
  {
   "cell_type": "code",
   "execution_count": 386,
   "id": "fe847a06",
   "metadata": {},
   "outputs": [],
   "source": [
    "full_fitting1 = fullRB_fitting_analysis(40, 10, 100, seq_length_total, seq_length_step)"
   ]
  },
  {
   "cell_type": "code",
   "execution_count": 387,
   "id": "818481f3",
   "metadata": {},
   "outputs": [],
   "source": [
    "fast_fitting1 = fastRB_fitting_analysis(40, 100, seq_length_total, seq_length_step)"
   ]
  },
  {
   "cell_type": "code",
   "execution_count": 389,
   "id": "2de103cb",
   "metadata": {},
   "outputs": [
    {
     "name": "stdout",
     "output_type": "stream",
     "text": [
      "The fidelity of the error channel is 0.9781365974222167\n",
      "The fidelity of the interleaved error channel is 0.9781264414349802\n"
     ]
    }
   ],
   "source": [
    "channel1 = np.dot(Pauli_channel, TargetGate_channel)\n",
    "ini_fidelity1 = process_fidelity(channel1)\n",
    "\n",
    "channel_Pauli_twirling1 = twirling(channel1, twirling_group)\n",
    "inter_channel1 = sqrtm(chop(np.dot(channel_Pauli_twirling1, np.dot(np.dot(int_gate, channel_Pauli_twirling1), int_gate.T.conjugate()))))\n",
    "inter_fidelity1 = np.trace(inter_channel1) / 4**num_qubit\n",
    "\n",
    "\n",
    "print('The fidelity of the error channel is', ini_fidelity1)\n",
    "print('The fidelity of the interleaved error channel is', inter_fidelity1)\n",
    "#print('The variance of the Pauli eigenvalues is', diag_var1)"
   ]
  },
  {
   "cell_type": "markdown",
   "id": "8d9cf885",
   "metadata": {},
   "source": [
    "#### (2) [set_fidelity, set_var] = [0.95, 0.001]"
   ]
  },
  {
   "cell_type": "code",
   "execution_count": 438,
   "id": "7801f2c6",
   "metadata": {},
   "outputs": [],
   "source": [
    "seq_length_total = 20\n",
    "seq_length_step = 2"
   ]
  },
  {
   "cell_type": "code",
   "execution_count": 439,
   "id": "edf832e4",
   "metadata": {},
   "outputs": [],
   "source": [
    "full_fitting2 = fullRB_fitting_analysis(40, 10, 100, seq_length_total, seq_length_step)"
   ]
  },
  {
   "cell_type": "code",
   "execution_count": 440,
   "id": "c8a049a2",
   "metadata": {},
   "outputs": [],
   "source": [
    "fast_fitting2 = fastRB_fitting_analysis(40, 100, seq_length_total, seq_length_step)"
   ]
  },
  {
   "cell_type": "code",
   "execution_count": 441,
   "id": "6bc7cc3c",
   "metadata": {},
   "outputs": [
    {
     "name": "stdout",
     "output_type": "stream",
     "text": [
      "The fidelity of the error channel is 0.950566116843589\n",
      "The fidelity of the interleaved error channel is 0.9505658282370548\n"
     ]
    }
   ],
   "source": [
    "channel2 = np.dot(Pauli_channel, TargetGate_channel)\n",
    "ini_fidelity2 = process_fidelity(channel2)\n",
    "\n",
    "channel_Pauli_twirling2 = twirling(channel2, twirling_group)\n",
    "inter_channel2 = sqrtm(chop(np.dot(channel_Pauli_twirling2, np.dot(np.dot(int_gate, channel_Pauli_twirling2), int_gate.T.conjugate()))))\n",
    "inter_fidelity2 = np.trace(inter_channel2) / 4**num_qubit\n",
    "\n",
    "\n",
    "print('The fidelity of the error channel is', ini_fidelity2)\n",
    "print('The fidelity of the interleaved error channel is', inter_fidelity2)\n",
    "#print('The variance of the Pauli eigenvalues is', diag_var1)"
   ]
  },
  {
   "cell_type": "markdown",
   "id": "8ed79921",
   "metadata": {},
   "source": [
    "#### (3) [set_fidelity, set_var] = [0.90, 0.001]"
   ]
  },
  {
   "cell_type": "code",
   "execution_count": 463,
   "id": "67cd0937",
   "metadata": {},
   "outputs": [],
   "source": [
    "seq_length_total = 16\n",
    "seq_length_step = 2"
   ]
  },
  {
   "cell_type": "code",
   "execution_count": 464,
   "id": "e474afee",
   "metadata": {},
   "outputs": [],
   "source": [
    "full_fitting3 = fullRB_fitting_analysis(40, 10, 100, seq_length_total, seq_length_step)"
   ]
  },
  {
   "cell_type": "code",
   "execution_count": 465,
   "id": "ee8aacfd",
   "metadata": {},
   "outputs": [],
   "source": [
    "fast_fitting3 = fastRB_fitting_analysis(40, 100, seq_length_total, seq_length_step)"
   ]
  },
  {
   "cell_type": "code",
   "execution_count": 466,
   "id": "4d63844c",
   "metadata": {},
   "outputs": [
    {
     "name": "stdout",
     "output_type": "stream",
     "text": [
      "The fidelity of the error channel is 0.903840555996185\n",
      "The fidelity of the interleaved error channel is 0.9038402788603374\n"
     ]
    }
   ],
   "source": [
    "channel3 = np.dot(Pauli_channel, TargetGate_channel)\n",
    "ini_fidelity3 = process_fidelity(channel3)\n",
    "\n",
    "channel_Pauli_twirling3 = twirling(channel3, twirling_group)\n",
    "inter_channel3 = sqrtm(chop(np.dot(channel_Pauli_twirling3, np.dot(np.dot(int_gate, channel_Pauli_twirling3), int_gate.T.conjugate()))))\n",
    "inter_fidelity3 = np.trace(inter_channel3) / 4**num_qubit\n",
    "\n",
    "\n",
    "print('The fidelity of the error channel is', ini_fidelity3)\n",
    "print('The fidelity of the interleaved error channel is', inter_fidelity3)\n",
    "#print('The variance of the Pauli eigenvalues is', diag_var1)"
   ]
  },
  {
   "cell_type": "markdown",
   "id": "e34c1d7e",
   "metadata": {},
   "source": [
    "#### (4) [set_fidelity, set_var] = [0.85, 0.001]"
   ]
  },
  {
   "cell_type": "code",
   "execution_count": 486,
   "id": "e0692100",
   "metadata": {},
   "outputs": [],
   "source": [
    "seq_length_total = 12\n",
    "seq_length_step = 2"
   ]
  },
  {
   "cell_type": "code",
   "execution_count": 487,
   "id": "0b74705c",
   "metadata": {},
   "outputs": [],
   "source": [
    "full_fitting4 = fullRB_fitting_analysis(40, 10, 100, seq_length_total, seq_length_step)"
   ]
  },
  {
   "cell_type": "code",
   "execution_count": 488,
   "id": "960f888b",
   "metadata": {},
   "outputs": [],
   "source": [
    "fast_fitting4 = fastRB_fitting_analysis(40, 100, seq_length_total, seq_length_step)"
   ]
  },
  {
   "cell_type": "code",
   "execution_count": 489,
   "id": "95ff4e95",
   "metadata": {},
   "outputs": [
    {
     "name": "stdout",
     "output_type": "stream",
     "text": [
      "The fidelity of the error channel is 0.8569196909904646\n",
      "The fidelity of the interleaved error channel is 0.856919532453977\n"
     ]
    }
   ],
   "source": [
    "channel4 = np.dot(Pauli_channel, TargetGate_channel)\n",
    "ini_fidelity4 = process_fidelity(channel4)\n",
    "\n",
    "channel_Pauli_twirling4 = twirling(channel4, twirling_group)\n",
    "inter_channel4 = sqrtm(chop(np.dot(channel_Pauli_twirling4, np.dot(np.dot(int_gate, channel_Pauli_twirling4), int_gate.T.conjugate()))))\n",
    "inter_fidelity4 = np.trace(inter_channel4) / 4**num_qubit\n",
    "\n",
    "\n",
    "print('The fidelity of the error channel is', ini_fidelity4)\n",
    "print('The fidelity of the interleaved error channel is', inter_fidelity4)\n",
    "#print('The variance of the Pauli eigenvalues is', diag_var1)"
   ]
  },
  {
   "cell_type": "markdown",
   "id": "caf69a0f",
   "metadata": {},
   "source": [
    "#### (5) [set_fidelity, set_var] = [0.925, 0.001]"
   ]
  },
  {
   "cell_type": "code",
   "execution_count": 511,
   "id": "cacbd576",
   "metadata": {},
   "outputs": [],
   "source": [
    "seq_length_total = 16\n",
    "seq_length_step = 2"
   ]
  },
  {
   "cell_type": "code",
   "execution_count": 512,
   "id": "8a38ab79",
   "metadata": {},
   "outputs": [],
   "source": [
    "full_fitting5 = fullRB_fitting_analysis(40, 10, 100, seq_length_total, seq_length_step)"
   ]
  },
  {
   "cell_type": "code",
   "execution_count": 513,
   "id": "a65a2bde",
   "metadata": {},
   "outputs": [],
   "source": [
    "fast_fitting5 = fastRB_fitting_analysis(40, 100, seq_length_total, seq_length_step)"
   ]
  },
  {
   "cell_type": "code",
   "execution_count": 514,
   "id": "9dbf0e4b",
   "metadata": {},
   "outputs": [
    {
     "name": "stdout",
     "output_type": "stream",
     "text": [
      "The fidelity of the error channel is 0.9272400518012387\n",
      "The fidelity of the interleaved error channel is 0.9272398153995896\n"
     ]
    }
   ],
   "source": [
    "channel5 = np.dot(Pauli_channel, TargetGate_channel)\n",
    "ini_fidelity5 = process_fidelity(channel5)\n",
    "\n",
    "channel_Pauli_twirling5 = twirling(channel5, twirling_group)\n",
    "inter_channel5 = sqrtm(chop(np.dot(channel_Pauli_twirling5, np.dot(np.dot(int_gate, channel_Pauli_twirling5), int_gate.T.conjugate()))))\n",
    "inter_fidelity5 = np.trace(inter_channel5) / 4**num_qubit\n",
    "\n",
    "\n",
    "print('The fidelity of the error channel is', ini_fidelity5)\n",
    "print('The fidelity of the interleaved error channel is', inter_fidelity5)\n",
    "#print('The variance of the Pauli eigenvalues is', diag_var1)"
   ]
  },
  {
   "cell_type": "markdown",
   "id": "653799d6",
   "metadata": {},
   "source": [
    "#### (6) [set_fidelity, set_var] = [0.97, 0.001]"
   ]
  },
  {
   "cell_type": "code",
   "execution_count": 540,
   "id": "0db775d4",
   "metadata": {},
   "outputs": [],
   "source": [
    "seq_length_total = 40\n",
    "seq_length_step = 4"
   ]
  },
  {
   "cell_type": "code",
   "execution_count": 541,
   "id": "65db459d",
   "metadata": {},
   "outputs": [],
   "source": [
    "full_fitting6 = fullRB_fitting_analysis(40, 10, 100, seq_length_total, seq_length_step)"
   ]
  },
  {
   "cell_type": "code",
   "execution_count": 542,
   "id": "e84582f8",
   "metadata": {},
   "outputs": [],
   "source": [
    "fast_fitting6 = fastRB_fitting_analysis(40, 100, seq_length_total, seq_length_step)"
   ]
  },
  {
   "cell_type": "code",
   "execution_count": 543,
   "id": "ad949f27",
   "metadata": {},
   "outputs": [
    {
     "name": "stdout",
     "output_type": "stream",
     "text": [
      "The fidelity of the error channel is 0.9688490550278085\n",
      "The fidelity of the interleaved error channel is 0.9688489254521275\n"
     ]
    }
   ],
   "source": [
    "channel6 = np.dot(Pauli_channel, TargetGate_channel)\n",
    "ini_fidelity6 = process_fidelity(channel6)\n",
    "\n",
    "channel_Pauli_twirling6 = twirling(channel6, twirling_group)\n",
    "inter_channel6 = sqrtm(chop(np.dot(channel_Pauli_twirling6, np.dot(np.dot(int_gate, channel_Pauli_twirling6), int_gate.T.conjugate()))))\n",
    "inter_fidelity6 = np.trace(inter_channel6) / 4**num_qubit\n",
    "\n",
    "\n",
    "print('The fidelity of the error channel is', ini_fidelity6)\n",
    "print('The fidelity of the interleaved error channel is', inter_fidelity6)\n",
    "#print('The variance of the Pauli eigenvalues is', diag_var1)"
   ]
  },
  {
   "cell_type": "markdown",
   "id": "946913ed",
   "metadata": {},
   "source": [
    "#### Fast-full-error rate"
   ]
  },
  {
   "cell_type": "code",
   "execution_count": 682,
   "id": "95fd74c6",
   "metadata": {},
   "outputs": [
    {
     "data": {
      "image/png": "[encoded data removed]",
      "text/plain": [
       "<Figure size 576x432 with 1 Axes>"
      ]
     },
     "metadata": {
      "needs_background": "light"
     },
     "output_type": "display_data"
    }
   ],
   "source": [
    "full_mean = [np.mean(full_fitting1), np.mean(full_fitting2), np.mean(full_fitting3), np.mean(full_fitting4), np.mean(full_fitting5), np.mean(full_fitting6)]\n",
    "fast_mean = [np.mean(fast_fitting1), np.mean(fast_fitting2), np.mean(fast_fitting3), np.mean(fast_fitting4), np.mean(fast_fitting5), np.mean(fast_fitting6)]\n",
    "full_std = [np.std(full_fitting1), np.std(full_fitting2), np.std(full_fitting3), np.std(full_fitting4), np.std(full_fitting5), np.std(full_fitting6)]\n",
    "fast_std = [np.std(fast_fitting1), np.std(fast_fitting2), np.std(fast_fitting3), np.std(fast_fitting4), np.std(fast_fitting5), np.std(fast_fitting6)]\n",
    "ideal_error = [1 - inter_fidelity1, 1 - inter_fidelity2, 1 - inter_fidelity3, 1 - inter_fidelity4, 1 - inter_fidelity5, 1 - inter_fidelity6]\n",
    "ideal_fidelity = [inter_fidelity1, inter_fidelity2, inter_fidelity3, inter_fidelity4, inter_fidelity5, inter_fidelity6]\n",
    "\n",
    "plt.figure(figsize = (8, 6))\n",
    "plt.errorbar(ideal_error, full_mean, yerr = full_std, fmt='o',ecolor='b',color='b',elinewidth = 1,capsize=8)\n",
    "plt.errorbar(ideal_error, fast_mean, yerr = fast_std, fmt='*',ecolor='r',color='r',elinewidth = 1,capsize=8)\n",
    "\n",
    "plt.xlabel(\"Error rate\", fontsize = 16)\n",
    "plt.ylabel(\"Fidelity\", fontsize = 16)\n",
    "plt.xticks(fontsize = 12)\n",
    "plt.yticks(fontsize = 12)\n",
    "\n",
    "plt.legend([\"CCB\", \"FB\"], loc = 'upper right') \n",
    "plt.savefig('fast-full-error.pdf')\n",
    "\n"
   ]
  },
  {
   "cell_type": "markdown",
   "id": "61ac19fd",
   "metadata": {},
   "source": [
    "### Normal distribution"
   ]
  },
  {
   "cell_type": "markdown",
   "id": "72e6417a",
   "metadata": {},
   "source": [
    "#### (1) p_max = 0.995, sigma = 0.004"
   ]
  },
  {
   "cell_type": "code",
   "execution_count": 559,
   "id": "3412998d",
   "metadata": {},
   "outputs": [
    {
     "name": "stdout",
     "output_type": "stream",
     "text": [
      "The theoretic process fidelity for the target clifford gate is 0.9951736536899201\n",
      "The fidelity of the error channel is 0.9927862691422886\n",
      "The fidelity of the interleaved error channel is 0.9927856325786284\n"
     ]
    }
   ],
   "source": [
    "[set_fidelity, set_var] = [0.995, 0.001]\n",
    "p_target_list = Pauli_eig(set_fidelity, set_var, num_qubit)\n",
    "Pauli_chan = PauliChan_surerrep(p_target_list)\n",
    "\n",
    "c = 0.01\n",
    "channel_co = (1j * c * qtcir.swap()).expm()\n",
    "channel_co_superrep = unitary_superrep(channel_co, Pauli_group)\n",
    "\n",
    "TargetGate_channel1 = np.dot(channel_co_superrep, Pauli_chan)\n",
    "print('The theoretic process fidelity for the target clifford gate is', process_fidelity(TargetGate_channel1))\n",
    "\n",
    "channel = np.dot(Pauli_channel, TargetGate_channel1)\n",
    "ini_fidelity1 = process_fidelity(channel)\n",
    "print('The fidelity of the error channel is', ini_fidelity1)\n",
    "\n",
    "channel_Pauli_twirling = twirling(channel, twirling_group)\n",
    "inter_channel = sqrtm(chop(np.dot(channel_Pauli_twirling, np.dot(np.dot(int_gate, channel_Pauli_twirling), int_gate.T.conjugate()))))\n",
    "inter_fidelity1 = np.trace(inter_channel) / 4**num_qubit\n",
    "print('The fidelity of the interleaved error channel is', inter_fidelity1)"
   ]
  },
  {
   "cell_type": "code",
   "execution_count": 560,
   "id": "1798fb95",
   "metadata": {},
   "outputs": [],
   "source": [
    "seq_length_total1 = 160\n",
    "seq_length_step1 = 8"
   ]
  },
  {
   "cell_type": "code",
   "execution_count": 561,
   "id": "0ed812a5",
   "metadata": {},
   "outputs": [],
   "source": [
    "full1 = fullRB_fitting_analysis(40, 10, 50, seq_length_total1, seq_length_step1, int_gate, SPAM_channel, ref_gate_channel, TargetGate_channel1)"
   ]
  },
  {
   "cell_type": "code",
   "execution_count": 562,
   "id": "6dc028ff",
   "metadata": {},
   "outputs": [],
   "source": [
    "fast1 = fastRB_fitting_analysis(40, 50, seq_length_total1, seq_length_step1, int_gate, SPAM_channel, ref_gate_channel, TargetGate_channel1)"
   ]
  },
  {
   "cell_type": "code",
   "execution_count": 563,
   "id": "17398958",
   "metadata": {},
   "outputs": [
    {
     "data": {
      "image/png": "[encoded data removed]",
      "text/plain": [
       "<Figure size 432x288 with 1 Axes>"
      ]
     },
     "metadata": {
      "needs_background": "light"
     },
     "output_type": "display_data"
    }
   ],
   "source": [
    "l1, = plt.plot(range(1, 41), full1, color = \"b\", linestyle = \"--\", marker = \"*\", linewidth = 1.0)\n",
    "l2, = plt.plot(range(1, 41), fast1, color = \"g\", linestyle = \"--\", marker = \"*\", linewidth = 1.0)\n",
    "plt.plot(range(1, 41), zeros(40) + ini_fidelity1, color = \"r\", linewidth = 2.0)\n",
    "plt.plot(range(1, 41), zeros(40) + inter_fidelity1, color = \"r\", linestyle = \"--\", linewidth = 2.0)\n",
    "plt.xlim((0, 42))\n",
    "plt.ylim((0.99, 1))\n",
    "plt.xlabel(\"Experiment\")\n",
    "plt.ylabel(\"Fidelity\")\n",
    "plt.legend([l1, l2], ['CCB fidelity', 'FB fidelity'], loc = 'upper right')\n",
    "plt.show()"
   ]
  },
  {
   "cell_type": "markdown",
   "id": "c03e9863",
   "metadata": {},
   "source": [
    "#### (2) p = 0.99, sigma = 0.002"
   ]
  },
  {
   "cell_type": "code",
   "execution_count": 649,
   "id": "4c95df2d",
   "metadata": {},
   "outputs": [
    {
     "name": "stdout",
     "output_type": "stream",
     "text": [
      "The theoretic process fidelity for the target clifford gate is 0.9901852038745168\n",
      "The fidelity of the error channel is 0.987810831579673\n",
      "The fidelity of the interleaved error channel is 0.9878102435662133\n"
     ]
    }
   ],
   "source": [
    "[set_fidelity, set_var] = [0.99, 0.002]\n",
    "p_target_list = Pauli_eig(set_fidelity, set_var, num_qubit)\n",
    "Pauli_chan = PauliChan_surerrep(p_target_list)\n",
    "\n",
    "c = 0.01\n",
    "channel_co = (1j * c * qtcir.swap()).expm()\n",
    "channel_co_superrep = unitary_superrep(channel_co, Pauli_group)\n",
    "\n",
    "TargetGate_channel2 = np.dot(channel_co_superrep, Pauli_chan)\n",
    "print('The theoretic process fidelity for the target clifford gate is', process_fidelity(TargetGate_channel2))\n",
    "\n",
    "channel = np.dot(Pauli_channel, TargetGate_channel2)\n",
    "ini_fidelity2 = process_fidelity(channel)\n",
    "print('The fidelity of the error channel is', ini_fidelity2)\n",
    "\n",
    "channel_Pauli_twirling = twirling(channel, twirling_group)\n",
    "inter_channel = sqrtm(chop(np.dot(channel_Pauli_twirling, np.dot(np.dot(int_gate, channel_Pauli_twirling), int_gate.T.conjugate()))))\n",
    "inter_fidelity2 = np.trace(inter_channel) / 4**num_qubit\n",
    "print('The fidelity of the interleaved error channel is', inter_fidelity2)"
   ]
  },
  {
   "cell_type": "code",
   "execution_count": 652,
   "id": "e3a89ec3",
   "metadata": {},
   "outputs": [],
   "source": [
    "seq_length_total2 = 100\n",
    "seq_length_step2 = 10"
   ]
  },
  {
   "cell_type": "code",
   "execution_count": 653,
   "id": "3db0ac8b",
   "metadata": {},
   "outputs": [],
   "source": [
    "full2 = fullRB_fitting_analysis(40, 10, 50, seq_length_total2, seq_length_step2, int_gate, SPAM_channel, ref_gate_channel, TargetGate_channel2)"
   ]
  },
  {
   "cell_type": "code",
   "execution_count": 654,
   "id": "0ebe8d54",
   "metadata": {},
   "outputs": [],
   "source": [
    "fast2 = fastRB_fitting_analysis(40, 50, seq_length_total2, seq_length_step2, int_gate, SPAM_channel, ref_gate_channel, TargetGate_channel2)"
   ]
  },
  {
   "cell_type": "code",
   "execution_count": 655,
   "id": "c8ffbeeb",
   "metadata": {},
   "outputs": [
    {
     "data": {
      "image/png": "[encoded data removed]",
      "text/plain": [
       "<Figure size 432x288 with 1 Axes>"
      ]
     },
     "metadata": {
      "needs_background": "light"
     },
     "output_type": "display_data"
    }
   ],
   "source": [
    "l1, = plt.plot(range(1, 41), full2, color = \"b\", linestyle = \"--\", marker = \"*\", linewidth = 1.0)\n",
    "l2, = plt.plot(range(1, 41), fast2, color = \"g\", linestyle = \"--\", marker = \"*\", linewidth = 1.0)\n",
    "plt.plot(range(1, 41), zeros(40) + ini_fidelity2, color = \"r\", linewidth = 2.0)\n",
    "plt.plot(range(1, 41), zeros(40) + inter_fidelity2, color = \"r\", linestyle = \"--\", linewidth = 2.0)\n",
    "plt.xlim((0, 42))\n",
    "plt.ylim((0.985, 0.995))\n",
    "plt.xlabel(\"Experiment\")\n",
    "plt.ylabel(\"Fidelity\")\n",
    "plt.legend([l1, l2], ['CCB fidelity', 'FB fidelity'], loc = 'upper right')\n",
    "plt.show()"
   ]
  },
  {
   "cell_type": "markdown",
   "id": "91320b18",
   "metadata": {},
   "source": [
    "#### (3) p = 0.98, sigma = 0.003"
   ]
  },
  {
   "cell_type": "code",
   "execution_count": 576,
   "id": "248c3696",
   "metadata": {},
   "outputs": [
    {
     "name": "stdout",
     "output_type": "stream",
     "text": [
      "The theoretic process fidelity for the target clifford gate is 0.979209718706734\n",
      "The fidelity of the error channel is 0.9768619493668054\n",
      "The fidelity of the interleaved error channel is 0.9768612623218784\n"
     ]
    }
   ],
   "source": [
    "[set_fidelity, set_var] = [0.98, 0.003]\n",
    "p_target_list = Pauli_eig(set_fidelity, set_var, num_qubit)\n",
    "Pauli_chan = PauliChan_surerrep(p_target_list)\n",
    "\n",
    "c = 0.01\n",
    "channel_co = (1j * c * qtcir.swap()).expm()\n",
    "channel_co_superrep = unitary_superrep(channel_co, Pauli_group)\n",
    "\n",
    "TargetGate_channel3 = np.dot(channel_co_superrep, Pauli_chan)\n",
    "print('The theoretic process fidelity for the target clifford gate is', process_fidelity(TargetGate_channel3))\n",
    "\n",
    "channel = np.dot(Pauli_channel, TargetGate_channel3)\n",
    "ini_fidelity3 = process_fidelity(channel)\n",
    "print('The fidelity of the error channel is', ini_fidelity3)\n",
    "\n",
    "channel_Pauli_twirling = twirling(channel, twirling_group)\n",
    "inter_channel = sqrtm(chop(np.dot(channel_Pauli_twirling, np.dot(np.dot(int_gate, channel_Pauli_twirling), int_gate.T.conjugate()))))\n",
    "inter_fidelity3 = np.trace(inter_channel) / 4**num_qubit\n",
    "print('The fidelity of the interleaved error channel is', inter_fidelity3)"
   ]
  },
  {
   "cell_type": "code",
   "execution_count": 577,
   "id": "03bb6072",
   "metadata": {},
   "outputs": [],
   "source": [
    "seq_length_total3 = 60\n",
    "seq_length_step3 = 6"
   ]
  },
  {
   "cell_type": "code",
   "execution_count": 578,
   "id": "d6e92b18",
   "metadata": {},
   "outputs": [],
   "source": [
    "full3 = fullRB_fitting_analysis(40, 10, 50, seq_length_total3, seq_length_step3, int_gate, SPAM_channel, ref_gate_channel, TargetGate_channel3)"
   ]
  },
  {
   "cell_type": "code",
   "execution_count": 579,
   "id": "cd7f988e",
   "metadata": {},
   "outputs": [],
   "source": [
    "fast3 = fastRB_fitting_analysis(40, 50, seq_length_total3, seq_length_step3, int_gate, SPAM_channel, ref_gate_channel, TargetGate_channel3)"
   ]
  },
  {
   "cell_type": "code",
   "execution_count": 580,
   "id": "600322ba",
   "metadata": {},
   "outputs": [
    {
     "data": {
      "image/png": "[encoded data removed]",
      "text/plain": [
       "<Figure size 432x288 with 1 Axes>"
      ]
     },
     "metadata": {
      "needs_background": "light"
     },
     "output_type": "display_data"
    }
   ],
   "source": [
    "l1, = plt.plot(range(1, 41), full3, color = \"b\", linestyle = \"--\", marker = \"*\", linewidth = 1.0)\n",
    "l2, = plt.plot(range(1, 41), fast3, color = \"g\", linestyle = \"--\", marker = \"*\", linewidth = 1.0)\n",
    "plt.plot(range(1, 41), zeros(40) + ini_fidelity3, color = \"r\", linewidth = 2.0)\n",
    "plt.plot(range(1, 41), zeros(40) + inter_fidelity3, color = \"r\", linestyle = \"--\", linewidth = 2.0)\n",
    "plt.xlim((0, 42))\n",
    "plt.ylim((0.97, 0.985))\n",
    "plt.xlabel(\"Experiment\")\n",
    "plt.ylabel(\"Fidelity\")\n",
    "plt.legend([l1, l2], ['CCB fidelity', 'FB fidelity'], loc = 'upper right')\n",
    "plt.show()"
   ]
  },
  {
   "cell_type": "markdown",
   "id": "c4e6f86a",
   "metadata": {},
   "source": [
    "#### (4) p = 0.98, sigma = 0.002"
   ]
  },
  {
   "cell_type": "code",
   "execution_count": 581,
   "id": "a98db8f4",
   "metadata": {},
   "outputs": [
    {
     "name": "stdout",
     "output_type": "stream",
     "text": [
      "The theoretic process fidelity for the target clifford gate is 0.9722565162924366\n",
      "The fidelity of the error channel is 0.969926196900089\n",
      "The fidelity of the interleaved error channel is 0.9699233841216093\n"
     ]
    }
   ],
   "source": [
    "[set_fidelity, set_var] = [0.97, 0.004]\n",
    "p_target_list = Pauli_eig(set_fidelity, set_var, num_qubit)\n",
    "Pauli_chan = PauliChan_surerrep(p_target_list)\n",
    "\n",
    "c = 0.01\n",
    "channel_co = (1j * c * qtcir.swap()).expm()\n",
    "channel_co_superrep = unitary_superrep(channel_co, Pauli_group)\n",
    "\n",
    "TargetGate_channel4 = np.dot(channel_co_superrep, Pauli_chan)\n",
    "print('The theoretic process fidelity for the target clifford gate is', process_fidelity(TargetGate_channel4))\n",
    "\n",
    "channel = np.dot(Pauli_channel, TargetGate_channel4)\n",
    "ini_fidelity4 = process_fidelity(channel)\n",
    "print('The fidelity of the error channel is', ini_fidelity4)\n",
    "\n",
    "channel_Pauli_twirling = twirling(channel, twirling_group)\n",
    "inter_channel = sqrtm(chop(np.dot(channel_Pauli_twirling, np.dot(np.dot(int_gate, channel_Pauli_twirling), int_gate.T.conjugate()))))\n",
    "inter_fidelity4 = np.trace(inter_channel) / 4**num_qubit\n",
    "print('The fidelity of the interleaved error channel is', inter_fidelity4)"
   ]
  },
  {
   "cell_type": "code",
   "execution_count": 582,
   "id": "51b3e109",
   "metadata": {},
   "outputs": [],
   "source": [
    "seq_length_total4 = 60\n",
    "seq_length_step4 = 6"
   ]
  },
  {
   "cell_type": "code",
   "execution_count": 583,
   "id": "bf85707f",
   "metadata": {},
   "outputs": [],
   "source": [
    "full4 = fullRB_fitting_analysis(40, 10, 50, seq_length_total4, seq_length_step4, int_gate, SPAM_channel, ref_gate_channel, TargetGate_channel4)"
   ]
  },
  {
   "cell_type": "code",
   "execution_count": 584,
   "id": "b637975e",
   "metadata": {},
   "outputs": [],
   "source": [
    "fast4 = fastRB_fitting_analysis(40, 50, seq_length_total4, seq_length_step4, int_gate, SPAM_channel, ref_gate_channel, TargetGate_channel4)"
   ]
  },
  {
   "cell_type": "code",
   "execution_count": 585,
   "id": "04acce71",
   "metadata": {},
   "outputs": [
    {
     "data": {
      "image/png": "[encoded data removed]",
      "text/plain": [
       "<Figure size 432x288 with 1 Axes>"
      ]
     },
     "metadata": {
      "needs_background": "light"
     },
     "output_type": "display_data"
    }
   ],
   "source": [
    "l1, = plt.plot(range(1, 41), full4, color = \"b\", linestyle = \"--\", marker = \"*\", linewidth = 1.0)\n",
    "l2, = plt.plot(range(1, 41), fast4, color = \"g\", linestyle = \"--\", marker = \"*\", linewidth = 1.0)\n",
    "plt.plot(range(1, 41), zeros(40) + ini_fidelity4, color = \"r\", linewidth = 2.0)\n",
    "plt.plot(range(1, 41), zeros(40) + inter_fidelity4, color = \"r\", linestyle = \"--\", linewidth = 2.0)\n",
    "plt.xlim((0, 42))\n",
    "plt.ylim((0.965, 0.975))\n",
    "plt.xlabel(\"Experiment\")\n",
    "plt.ylabel(\"Fidelity\")\n",
    "plt.legend([l1, l2], ['CCB fidelity', 'FB fidelity'], loc = 'upper right')\n",
    "plt.show()"
   ]
  },
  {
   "cell_type": "markdown",
   "id": "95706e93",
   "metadata": {},
   "source": [
    "#### (5) p = 0.97, sigma = 0.002"
   ]
  },
  {
   "cell_type": "code",
   "execution_count": 586,
   "id": "51facf58",
   "metadata": {},
   "outputs": [
    {
     "name": "stdout",
     "output_type": "stream",
     "text": [
      "The theoretic process fidelity for the target clifford gate is 0.9624172485498774\n",
      "The fidelity of the error channel is 0.9601136923870905\n",
      "The fidelity of the interleaved error channel is 0.9601087938967399\n"
     ]
    }
   ],
   "source": [
    "[set_fidelity, set_var] = [0.96, 0.005]\n",
    "p_target_list = Pauli_eig(set_fidelity, set_var, num_qubit)\n",
    "Pauli_chan = PauliChan_surerrep(p_target_list)\n",
    "\n",
    "c = 0.01\n",
    "channel_co = (1j * c * qtcir.swap()).expm()\n",
    "channel_co_superrep = unitary_superrep(channel_co, Pauli_group)\n",
    "\n",
    "TargetGate_channel5 = np.dot(channel_co_superrep, Pauli_chan)\n",
    "print('The theoretic process fidelity for the target clifford gate is', process_fidelity(TargetGate_channel5))\n",
    "\n",
    "channel = np.dot(Pauli_channel, TargetGate_channel5)\n",
    "ini_fidelity5 = process_fidelity(channel)\n",
    "print('The fidelity of the error channel is', ini_fidelity5)\n",
    "\n",
    "channel_Pauli_twirling = twirling(channel, twirling_group)\n",
    "inter_channel = sqrtm(chop(np.dot(channel_Pauli_twirling, np.dot(np.dot(int_gate, channel_Pauli_twirling), int_gate.T.conjugate()))))\n",
    "inter_fidelity5 = np.trace(inter_channel) / 4**num_qubit\n",
    "print('The fidelity of the interleaved error channel is', inter_fidelity5)"
   ]
  },
  {
   "cell_type": "code",
   "execution_count": 587,
   "id": "f0214aab",
   "metadata": {},
   "outputs": [],
   "source": [
    "seq_length_total5 = 30\n",
    "seq_length_step5 = 2"
   ]
  },
  {
   "cell_type": "code",
   "execution_count": 588,
   "id": "8e5030bc",
   "metadata": {},
   "outputs": [],
   "source": [
    "full5 = fullRB_fitting_analysis(40, 10, 50, seq_length_total5, seq_length_step5, int_gate, SPAM_channel, ref_gate_channel, TargetGate_channel5)"
   ]
  },
  {
   "cell_type": "code",
   "execution_count": 589,
   "id": "48bcf5f2",
   "metadata": {},
   "outputs": [],
   "source": [
    "fast5 = fastRB_fitting_analysis(40, 50, seq_length_total5, seq_length_step5, int_gate, SPAM_channel, ref_gate_channel, TargetGate_channel5)"
   ]
  },
  {
   "cell_type": "code",
   "execution_count": 591,
   "id": "3459ad90",
   "metadata": {},
   "outputs": [
    {
     "data": {
      "image/png": "[encoded data removed]",
      "text/plain": [
       "<Figure size 432x288 with 1 Axes>"
      ]
     },
     "metadata": {
      "needs_background": "light"
     },
     "output_type": "display_data"
    }
   ],
   "source": [
    "l1, = plt.plot(range(1, 41), full5, color = \"b\", linestyle = \"--\", marker = \"*\", linewidth = 1.0)\n",
    "l2, = plt.plot(range(1, 41), fast5, color = \"g\", linestyle = \"--\", marker = \"*\", linewidth = 1.0)\n",
    "plt.plot(range(1, 41), zeros(40) + ini_fidelity5, color = \"r\", linewidth = 2.0)\n",
    "plt.plot(range(1, 41), zeros(40) + inter_fidelity5, color = \"r\", linestyle = \"--\", linewidth = 2.0)\n",
    "plt.xlim((0, 42))\n",
    "plt.ylim((0.955, 0.965))\n",
    "plt.xlabel(\"Experiment\")\n",
    "plt.ylabel(\"Fidelity\")\n",
    "plt.legend([l1, l2], ['CCB fidelity', 'FB fidelity'], loc = 'upper right')\n",
    "plt.show()"
   ]
  },
  {
   "cell_type": "markdown",
   "id": "8ef237ba",
   "metadata": {},
   "source": [
    "#### (6) p_max = 0.95"
   ]
  },
  {
   "cell_type": "code",
   "execution_count": 593,
   "id": "b845008e",
   "metadata": {},
   "outputs": [
    {
     "name": "stdout",
     "output_type": "stream",
     "text": [
      "The theoretic process fidelity for the target clifford gate is 0.9518093242342858\n",
      "The fidelity of the error channel is 0.9495347720667981\n",
      "The fidelity of the interleaved error channel is 0.9495317361038893\n"
     ]
    }
   ],
   "source": [
    "[set_fidelity, set_var] = [0.95, 0.006]\n",
    "p_target_list = Pauli_eig(set_fidelity, set_var, num_qubit)\n",
    "Pauli_chan = PauliChan_surerrep(p_target_list)\n",
    "\n",
    "c = 0.01\n",
    "channel_co = (1j * c * qtcir.swap()).expm()\n",
    "channel_co_superrep = unitary_superrep(channel_co, Pauli_group)\n",
    "\n",
    "TargetGate_channel6 = np.dot(channel_co_superrep, Pauli_chan)\n",
    "print('The theoretic process fidelity for the target clifford gate is', process_fidelity(TargetGate_channel6))\n",
    "\n",
    "channel = np.dot(Pauli_channel, TargetGate_channel6)\n",
    "ini_fidelity6 = process_fidelity(channel)\n",
    "print('The fidelity of the error channel is', ini_fidelity6)\n",
    "\n",
    "channel_Pauli_twirling = twirling(channel, twirling_group)\n",
    "inter_channel = sqrtm(chop(np.dot(channel_Pauli_twirling, np.dot(np.dot(int_gate, channel_Pauli_twirling), int_gate.T.conjugate()))))\n",
    "inter_fidelity6 = np.trace(inter_channel) / 4**num_qubit\n",
    "print('The fidelity of the interleaved error channel is', inter_fidelity6)"
   ]
  },
  {
   "cell_type": "code",
   "execution_count": 597,
   "id": "4c3dd811",
   "metadata": {},
   "outputs": [],
   "source": [
    "seq_length_total6 = 24\n",
    "seq_length_step6 = 2"
   ]
  },
  {
   "cell_type": "code",
   "execution_count": 598,
   "id": "8fc1cca9",
   "metadata": {},
   "outputs": [],
   "source": [
    "full6 = fullRB_fitting_analysis(40, 10, 50, seq_length_total6, seq_length_step6, int_gate, SPAM_channel, ref_gate_channel, TargetGate_channel6)"
   ]
  },
  {
   "cell_type": "code",
   "execution_count": 599,
   "id": "08d8a20c",
   "metadata": {},
   "outputs": [],
   "source": [
    "fast6 = fastRB_fitting_analysis(40, 50, seq_length_total6, seq_length_step6, int_gate, SPAM_channel, ref_gate_channel, TargetGate_channel6)"
   ]
  },
  {
   "cell_type": "code",
   "execution_count": 600,
   "id": "37b2e98f",
   "metadata": {},
   "outputs": [
    {
     "data": {
      "image/png": "[encoded data removed]",
      "text/plain": [
       "<Figure size 432x288 with 1 Axes>"
      ]
     },
     "metadata": {
      "needs_background": "light"
     },
     "output_type": "display_data"
    }
   ],
   "source": [
    "l1, = plt.plot(range(1, 41), full6, color = \"b\", linestyle = \"--\", marker = \"*\", linewidth = 1.0)\n",
    "l2, = plt.plot(range(1, 41), fast6, color = \"g\", linestyle = \"--\", marker = \"*\", linewidth = 1.0)\n",
    "plt.plot(range(1, 41), zeros(40) + ini_fidelity6, color = \"r\", linewidth = 2.0)\n",
    "plt.plot(range(1, 41), zeros(40) + inter_fidelity6, color = \"r\", linestyle = \"--\", linewidth = 2.0)\n",
    "plt.xlim((0, 42))\n",
    "plt.ylim((0.945, 0.955))\n",
    "plt.xlabel(\"Experiment\")\n",
    "plt.ylabel(\"Fidelity\")\n",
    "plt.legend([l1, l2], ['CCB fidelity', 'FB fidelity'], loc = 'upper right')\n",
    "plt.show()"
   ]
  },
  {
   "cell_type": "markdown",
   "id": "30d7875c",
   "metadata": {},
   "source": [
    "#### (7) p_max = 0.94"
   ]
  },
  {
   "cell_type": "code",
   "execution_count": 601,
   "id": "ee4d232c",
   "metadata": {},
   "outputs": [
    {
     "name": "stdout",
     "output_type": "stream",
     "text": [
      "The theoretic process fidelity for the target clifford gate is 0.9421138198801596\n",
      "The fidelity of the error channel is 0.9398608880918699\n",
      "The fidelity of the interleaved error channel is 0.9398545155672058\n"
     ]
    }
   ],
   "source": [
    "[set_fidelity, set_var] = [0.94, 0.007]\n",
    "p_target_list = Pauli_eig(set_fidelity, set_var, num_qubit)\n",
    "Pauli_chan = PauliChan_surerrep(p_target_list)\n",
    "\n",
    "c = 0.01\n",
    "channel_co = (1j * c * qtcir.swap()).expm()\n",
    "channel_co_superrep = unitary_superrep(channel_co, Pauli_group)\n",
    "\n",
    "TargetGate_channel7 = np.dot(channel_co_superrep, Pauli_chan)\n",
    "print('The theoretic process fidelity for the target clifford gate is', process_fidelity(TargetGate_channel7))\n",
    "\n",
    "channel = np.dot(Pauli_channel, TargetGate_channel7)\n",
    "ini_fidelity7 = process_fidelity(channel)\n",
    "print('The fidelity of the error channel is', ini_fidelity7)\n",
    "\n",
    "channel_Pauli_twirling = twirling(channel, twirling_group)\n",
    "inter_channel = sqrtm(chop(np.dot(channel_Pauli_twirling, np.dot(np.dot(int_gate, channel_Pauli_twirling), int_gate.T.conjugate()))))\n",
    "inter_fidelity7 = np.trace(inter_channel) / 4**num_qubit\n",
    "print('The fidelity of the interleaved error channel is', inter_fidelity7)"
   ]
  },
  {
   "cell_type": "code",
   "execution_count": 602,
   "id": "741b3696",
   "metadata": {},
   "outputs": [],
   "source": [
    "seq_length_total7 = 20\n",
    "seq_length_step7 = 2"
   ]
  },
  {
   "cell_type": "code",
   "execution_count": 603,
   "id": "9e10140c",
   "metadata": {},
   "outputs": [],
   "source": [
    "full7 = fullRB_fitting_analysis(40, 10, 50, seq_length_total7, seq_length_step7, int_gate, SPAM_channel, ref_gate_channel, TargetGate_channel7)"
   ]
  },
  {
   "cell_type": "code",
   "execution_count": 604,
   "id": "49b7205a",
   "metadata": {},
   "outputs": [],
   "source": [
    "fast7 = fastRB_fitting_analysis(40, 50, seq_length_total7, seq_length_step7, int_gate, SPAM_channel, ref_gate_channel, TargetGate_channel7)"
   ]
  },
  {
   "cell_type": "markdown",
   "id": "f24dfba4",
   "metadata": {},
   "source": [
    "#### (8) p_max = 0.93"
   ]
  },
  {
   "cell_type": "code",
   "execution_count": 605,
   "id": "fe20ee78",
   "metadata": {},
   "outputs": [
    {
     "name": "stdout",
     "output_type": "stream",
     "text": [
      "The theoretic process fidelity for the target clifford gate is 0.935270124787637\n",
      "The fidelity of the error channel is 0.9330368484471365\n",
      "The fidelity of the interleaved error channel is 0.9330217158164316\n"
     ]
    }
   ],
   "source": [
    "[set_fidelity, set_var] = [0.93, 0.008]\n",
    "p_target_list = Pauli_eig(set_fidelity, set_var, num_qubit)\n",
    "Pauli_chan = PauliChan_surerrep(p_target_list)\n",
    "\n",
    "c = 0.01\n",
    "channel_co = (1j * c * qtcir.swap()).expm()\n",
    "channel_co_superrep = unitary_superrep(channel_co, Pauli_group)\n",
    "\n",
    "TargetGate_channel8 = np.dot(channel_co_superrep, Pauli_chan)\n",
    "print('The theoretic process fidelity for the target clifford gate is', process_fidelity(TargetGate_channel8))\n",
    "\n",
    "channel = np.dot(Pauli_channel, TargetGate_channel8)\n",
    "ini_fidelity8 = process_fidelity(channel)\n",
    "print('The fidelity of the error channel is', ini_fidelity8)\n",
    "\n",
    "channel_Pauli_twirling = twirling(channel, twirling_group)\n",
    "inter_channel = sqrtm(chop(np.dot(channel_Pauli_twirling, np.dot(np.dot(int_gate, channel_Pauli_twirling), int_gate.T.conjugate()))))\n",
    "inter_fidelity8 = np.trace(inter_channel) / 4**num_qubit\n",
    "print('The fidelity of the interleaved error channel is', inter_fidelity8)"
   ]
  },
  {
   "cell_type": "code",
   "execution_count": 606,
   "id": "45ed83f0",
   "metadata": {},
   "outputs": [],
   "source": [
    "seq_length_total8 = 20\n",
    "seq_length_step8 = 2"
   ]
  },
  {
   "cell_type": "code",
   "execution_count": 607,
   "id": "b41ed707",
   "metadata": {},
   "outputs": [],
   "source": [
    "full8 = fullRB_fitting_analysis(40, 10, 50, seq_length_total8, seq_length_step8, int_gate, SPAM_channel, ref_gate_channel, TargetGate_channel8)"
   ]
  },
  {
   "cell_type": "code",
   "execution_count": 608,
   "id": "e38f5057",
   "metadata": {},
   "outputs": [],
   "source": [
    "fast8 = fastRB_fitting_analysis(40, 50, seq_length_total8, seq_length_step8, int_gate, SPAM_channel, ref_gate_channel, TargetGate_channel8)"
   ]
  },
  {
   "cell_type": "code",
   "execution_count": 609,
   "id": "7f7645a5",
   "metadata": {},
   "outputs": [
    {
     "data": {
      "image/png": "[encoded data removed]",
      "text/plain": [
       "<Figure size 432x288 with 1 Axes>"
      ]
     },
     "metadata": {
      "needs_background": "light"
     },
     "output_type": "display_data"
    }
   ],
   "source": [
    "l1, = plt.plot(range(1, 41), full8, color = \"b\", linestyle = \"--\", marker = \"*\", linewidth = 1.0)\n",
    "l2, = plt.plot(range(1, 41), fast8, color = \"g\", linestyle = \"--\", marker = \"*\", linewidth = 1.0)\n",
    "plt.plot(range(1, 41), zeros(40) + ini_fidelity8, color = \"r\", linewidth = 2.0)\n",
    "plt.plot(range(1, 41), zeros(40) + inter_fidelity8, color = \"r\", linestyle = \"--\", linewidth = 2.0)\n",
    "plt.xlim((0, 42))\n",
    "plt.ylim((0.925, 0.935))\n",
    "plt.xlabel(\"Experiment\")\n",
    "plt.ylabel(\"Fidelity\")\n",
    "plt.legend([l1, l2], ['CCB fidelity', 'FB fidelity'], loc = 'upper right')\n",
    "plt.show()"
   ]
  },
  {
   "cell_type": "code",
   "execution_count": 657,
   "id": "28a7d19e",
   "metadata": {},
   "outputs": [
    {
     "data": {
      "image/png": "[encoded data removed]",
      "text/plain": [
       "<Figure size 576x432 with 1 Axes>"
      ]
     },
     "metadata": {
      "needs_background": "light"
     },
     "output_type": "display_data"
    }
   ],
   "source": [
    "full_mean = [np.mean(full1), np.mean(full2), np.mean(full3), np.mean(full4), np.mean(full5), np.mean(full6), np.mean(full7), np.mean(full8)]\n",
    "fast_mean = [np.mean(fast1), np.mean(fast2), np.mean(fast3), np.mean(fast4), np.mean(fast5), np.mean(fast6), np.mean(fast7), np.mean(fast8)]\n",
    "full_std = [np.std(full1), np.std(full2), np.std(full3), np.std(full4), np.std(full5), np.std(full6), np.std(full7), np.std(full8)]\n",
    "fast_std = [np.std(fast1), np.std(fast2), np.std(fast3), np.std(fast4), np.std(fast5), np.std(fast6), np.std(fast7), np.std(fast8)]\n",
    "ideal_error = [1 - inter_fidelity1, 1 - inter_fidelity2, 1 - inter_fidelity3, 1 - inter_fidelity4, 1 - inter_fidelity5, 1 - inter_fidelity6, 1 - inter_fidelity7, 1 - inter_fidelity8]\n",
    "ideal_fidelity = [inter_fidelity1, inter_fidelity2, inter_fidelity3, inter_fidelity4, inter_fidelity5, inter_fidelity6, inter_fidelity7, inter_fidelity8]\n",
    "\n",
    "plt.figure(figsize = (8, 6))\n",
    "plt.errorbar(ideal_error, full_mean, yerr = full_std, fmt='o',ecolor='b',color='b',elinewidth = 1,capsize=8)\n",
    "plt.errorbar(ideal_error, fast_mean, yerr = fast_std, fmt='*',ecolor='r',color='r',elinewidth = 1,capsize=8)\n",
    "\n",
    "plt.xlabel(\"Error rate\", fontsize = 16)\n",
    "plt.ylabel(\"Fidelity\", fontsize = 16)\n",
    "plt.xticks(fontsize = 12)\n",
    "plt.yticks(fontsize = 12)\n",
    "\n",
    "plt.legend([\"CCB\", \"FB\"], loc = 'upper right') \n",
    "plt.plot(ideal_error, ideal_fidelity, color = \"g\", linestyle = \"--\", marker = \"*\", linewidth = 2.0)\n",
    "plt.savefig('fast_full_error.pdf')"
   ]
  },
  {
   "cell_type": "code",
   "execution_count": null,
   "id": "ca6ca00e",
   "metadata": {},
   "outputs": [],
   "source": []
  },
  {
   "cell_type": "code",
   "execution_count": null,
   "id": "74152921",
   "metadata": {},
   "outputs": [],
   "source": []
  },
  {
   "cell_type": "markdown",
   "id": "1e00f336",
   "metadata": {},
   "source": [
    "#### (1) p_max = 0.999, delta = 0.001"
   ]
  },
  {
   "cell_type": "code",
   "execution_count": 282,
   "id": "e43bc14c",
   "metadata": {},
   "outputs": [
    {
     "name": "stdout",
     "output_type": "stream",
     "text": [
      "The theoretic process fidelity for the target clifford gate is 0.9924255649812167\n",
      "The fidelity of the error channel is 0.9900474064769076\n",
      "The fidelity of the interleaved error channel is 0.9900404720255613\n"
     ]
    }
   ],
   "source": [
    "p_target_list = np.arange(0.999, 0.999 - (4**num_qubit - 1) * 0.001 + 0.0001, - 0.001)\n",
    "Pauli_chan = PauliChan_surerrep(p_target_list)\n",
    "\n",
    "c = 0.01\n",
    "channel_co = (1j * c * qtcir.swap()).expm()\n",
    "channel_co_superrep = unitary_superrep(channel_co, Pauli_group)\n",
    "\n",
    "TargetGate_channel1 = np.dot(channel_co_superrep, Pauli_chan)\n",
    "print('The theoretic process fidelity for the target clifford gate is', process_fidelity(TargetGate_channel1))\n",
    "\n",
    "channel = np.dot(Pauli_channel, TargetGate_channel1)\n",
    "ini_fidelity1 = process_fidelity(channel)\n",
    "print('The fidelity of the error channel is', ini_fidelity1)\n",
    "\n",
    "channel_Pauli_twirling = twirling(channel, twirling_group)\n",
    "inter_channel = sqrtm(chop(np.dot(channel_Pauli_twirling, np.dot(np.dot(int_gate, channel_Pauli_twirling), int_gate.T.conjugate()))))\n",
    "inter_fidelity1 = np.trace(inter_channel) / 4**num_qubit\n",
    "print('The fidelity of the interleaved error channel is', inter_fidelity1)"
   ]
  },
  {
   "cell_type": "code",
   "execution_count": 283,
   "id": "23977919",
   "metadata": {},
   "outputs": [],
   "source": [
    "seq_length_total1 = 100\n",
    "seq_length_step1 = 8"
   ]
  },
  {
   "cell_type": "code",
   "execution_count": 284,
   "id": "d7656296",
   "metadata": {},
   "outputs": [],
   "source": [
    "full21 = fullRB_fitting_analysis(40, 10, 50, seq_length_total1, seq_length_step1, int_gate, SPAM_channel, ref_gate_channel, TargetGate_channel1)"
   ]
  },
  {
   "cell_type": "code",
   "execution_count": 285,
   "id": "d30a4a68",
   "metadata": {},
   "outputs": [],
   "source": [
    "fast21 = fastRB_fitting_analysis(40, 50, seq_length_total1, seq_length_step1, int_gate, SPAM_channel, ref_gate_channel, TargetGate_channel1)"
   ]
  },
  {
   "cell_type": "code",
   "execution_count": 287,
   "id": "559a1326",
   "metadata": {},
   "outputs": [
    {
     "data": {
      "image/png": "[encoded data removed]",
      "text/plain": [
       "<Figure size 432x288 with 1 Axes>"
      ]
     },
     "metadata": {
      "needs_background": "light"
     },
     "output_type": "display_data"
    }
   ],
   "source": [
    "l1, = plt.plot(range(1, 41), full21, color = \"b\", linestyle = \"--\", marker = \"*\", linewidth = 1.0)\n",
    "l2, = plt.plot(range(1, 41), fast21, color = \"g\", linestyle = \"--\", marker = \"*\", linewidth = 1.0)\n",
    "plt.plot(range(1, 41), zeros(40) + ini_fidelity1, color = \"r\", linewidth = 2.0)\n",
    "plt.plot(range(1, 41), zeros(40) + inter_fidelity1, color = \"r\", linestyle = \"--\", linewidth = 2.0)\n",
    "plt.xlim((0, 42))\n",
    "plt.ylim((0.98, 0.999))\n",
    "plt.xlabel(\"Experiment\")\n",
    "plt.ylabel(\"Fidelity\")\n",
    "plt.legend([l1, l2], ['CCB fidelity', 'FB fidelity'], loc = 'upper right')\n",
    "plt.show()"
   ]
  },
  {
   "cell_type": "markdown",
   "id": "f2d1a4fc",
   "metadata": {},
   "source": [
    "#### (2) p_max = 0.999, delta = 0.003"
   ]
  },
  {
   "cell_type": "code",
   "execution_count": 291,
   "id": "82fc2f69",
   "metadata": {},
   "outputs": [
    {
     "name": "stdout",
     "output_type": "stream",
     "text": [
      "The theoretic process fidelity for the target clifford gate is 0.9793015399487173\n",
      "The fidelity of the error channel is 0.9769619225957542\n",
      "The fidelity of the interleaved error channel is 0.9769101661382813\n"
     ]
    }
   ],
   "source": [
    "p_target_list = np.arange(0.999, 0.999 - (4**num_qubit - 1) * 0.003 + 0.0001, - 0.003)\n",
    "Pauli_chan = PauliChan_surerrep(p_target_list)\n",
    "\n",
    "c = 0.01\n",
    "channel_co = (1j * c * qtcir.swap()).expm()\n",
    "channel_co_superrep = unitary_superrep(channel_co, Pauli_group)\n",
    "\n",
    "TargetGate_channel2 = np.dot(channel_co_superrep, Pauli_chan)\n",
    "print('The theoretic process fidelity for the target clifford gate is', process_fidelity(TargetGate_channel2))\n",
    "\n",
    "channel = np.dot(Pauli_channel, TargetGate_channel2)\n",
    "ini_fidelity2 = process_fidelity(channel)\n",
    "print('The fidelity of the error channel is', ini_fidelity2)\n",
    "\n",
    "channel_Pauli_twirling = twirling(channel, twirling_group)\n",
    "inter_channel = sqrtm(chop(np.dot(channel_Pauli_twirling, np.dot(np.dot(int_gate, channel_Pauli_twirling), int_gate.T.conjugate()))))\n",
    "inter_fidelity2 = np.trace(inter_channel) / 4**num_qubit\n",
    "print('The fidelity of the interleaved error channel is', inter_fidelity2)"
   ]
  },
  {
   "cell_type": "code",
   "execution_count": 294,
   "id": "5480938a",
   "metadata": {},
   "outputs": [],
   "source": [
    "seq_length_total2 = 60\n",
    "seq_length_step2 = 6"
   ]
  },
  {
   "cell_type": "code",
   "execution_count": 295,
   "id": "e4ad7f19",
   "metadata": {},
   "outputs": [],
   "source": [
    "full22 = fullRB_fitting_analysis(40, 10, 50, seq_length_total2, seq_length_step2, int_gate, SPAM_channel, ref_gate_channel, TargetGate_channel2)"
   ]
  },
  {
   "cell_type": "code",
   "execution_count": 296,
   "id": "579cbe6a",
   "metadata": {},
   "outputs": [],
   "source": [
    "fast22 = fastRB_fitting_analysis(40, 50, seq_length_total2, seq_length_step2, int_gate, SPAM_channel, ref_gate_channel, TargetGate_channel2)"
   ]
  },
  {
   "cell_type": "code",
   "execution_count": 299,
   "id": "b85d8c4a",
   "metadata": {},
   "outputs": [
    {
     "data": {
      "image/png": "[encoded data removed]",
      "text/plain": [
       "<Figure size 432x288 with 1 Axes>"
      ]
     },
     "metadata": {
      "needs_background": "light"
     },
     "output_type": "display_data"
    }
   ],
   "source": [
    "l1, = plt.plot(range(1, 41), full22, color = \"b\", linestyle = \"--\", marker = \"*\", linewidth = 1.0)\n",
    "l2, = plt.plot(range(1, 41), fast22, color = \"g\", linestyle = \"--\", marker = \"*\", linewidth = 1.0)\n",
    "plt.plot(range(1, 41), zeros(40) + ini_fidelity2, color = \"r\", linewidth = 2.0)\n",
    "plt.plot(range(1, 41), zeros(40) + inter_fidelity2, color = \"r\", linestyle = \"--\", linewidth = 2.0)\n",
    "plt.xlim((0, 42))\n",
    "plt.ylim((0.97, 0.99))\n",
    "plt.xlabel(\"Experiment\")\n",
    "plt.ylabel(\"Fidelity\")\n",
    "plt.legend([l1, l2], ['CCB fidelity', 'FB fidelity'], loc = 'upper right')\n",
    "plt.show()"
   ]
  },
  {
   "cell_type": "markdown",
   "id": "e3097994",
   "metadata": {},
   "source": [
    "#### (3) p_max = 0.999, delta = 0.005"
   ]
  },
  {
   "cell_type": "code",
   "execution_count": 300,
   "id": "cb87893a",
   "metadata": {},
   "outputs": [
    {
     "name": "stdout",
     "output_type": "stream",
     "text": [
      "The theoretic process fidelity for the target clifford gate is 0.9661775149162176\n",
      "The fidelity of the error channel is 0.9638764387146008\n",
      "The fidelity of the interleaved error channel is 0.9637364907244571\n"
     ]
    }
   ],
   "source": [
    "p_target_list = np.arange(0.999, 0.999 - (4**num_qubit - 1) * 0.005 + 0.0001, - 0.005)\n",
    "Pauli_chan = PauliChan_surerrep(p_target_list)\n",
    "\n",
    "c = 0.01\n",
    "channel_co = (1j * c * qtcir.swap()).expm()\n",
    "channel_co_superrep = unitary_superrep(channel_co, Pauli_group)\n",
    "\n",
    "TargetGate_channel3 = np.dot(channel_co_superrep, Pauli_chan)\n",
    "print('The theoretic process fidelity for the target clifford gate is', process_fidelity(TargetGate_channel3))\n",
    "\n",
    "channel = np.dot(Pauli_channel, TargetGate_channel3)\n",
    "ini_fidelity3 = process_fidelity(channel)\n",
    "print('The fidelity of the error channel is', ini_fidelity3)\n",
    "\n",
    "channel_Pauli_twirling = twirling(channel, twirling_group)\n",
    "inter_channel = sqrtm(chop(np.dot(channel_Pauli_twirling, np.dot(np.dot(int_gate, channel_Pauli_twirling), int_gate.T.conjugate()))))\n",
    "inter_fidelity3 = np.trace(inter_channel) / 4**num_qubit\n",
    "print('The fidelity of the interleaved error channel is', inter_fidelity3)"
   ]
  },
  {
   "cell_type": "code",
   "execution_count": 302,
   "id": "a7dc4089",
   "metadata": {},
   "outputs": [],
   "source": [
    "seq_length_total3 = 40\n",
    "seq_length_step3 = 4"
   ]
  },
  {
   "cell_type": "code",
   "execution_count": 303,
   "id": "072a6904",
   "metadata": {},
   "outputs": [],
   "source": [
    "full23 = fullRB_fitting_analysis(40, 10, 50, seq_length_total3, seq_length_step3, int_gate, SPAM_channel, ref_gate_channel, TargetGate_channel3)"
   ]
  },
  {
   "cell_type": "code",
   "execution_count": 304,
   "id": "19b5053f",
   "metadata": {},
   "outputs": [],
   "source": [
    "fast23 = fastRB_fitting_analysis(40, 50, seq_length_total3, seq_length_step3, int_gate, SPAM_channel, ref_gate_channel, TargetGate_channel3)"
   ]
  },
  {
   "cell_type": "code",
   "execution_count": 306,
   "id": "2177f677",
   "metadata": {},
   "outputs": [
    {
     "data": {
      "image/png": "[encoded data removed]",
      "text/plain": [
       "<Figure size 432x288 with 1 Axes>"
      ]
     },
     "metadata": {
      "needs_background": "light"
     },
     "output_type": "display_data"
    }
   ],
   "source": [
    "l1, = plt.plot(range(1, 41), full23, color = \"b\", linestyle = \"--\", marker = \"*\", linewidth = 1.0)\n",
    "l2, = plt.plot(range(1, 41), fast23, color = \"g\", linestyle = \"--\", marker = \"*\", linewidth = 1.0)\n",
    "plt.plot(range(1, 41), zeros(40) + ini_fidelity3, color = \"r\", linewidth = 2.0)\n",
    "plt.plot(range(1, 41), zeros(40) + inter_fidelity3, color = \"r\", linestyle = \"--\", linewidth = 2.0)\n",
    "plt.xlim((0, 42))\n",
    "plt.ylim((0.95, 0.98))\n",
    "plt.xlabel(\"Experiment\")\n",
    "plt.ylabel(\"Fidelity\")\n",
    "plt.legend([l1, l2], ['CCB fidelity', 'FB fidelity'], loc = 'upper right')\n",
    "plt.show()"
   ]
  },
  {
   "cell_type": "markdown",
   "id": "fc09d358",
   "metadata": {},
   "source": [
    "#### (4) p_max = 0.999, delta = 0.007"
   ]
  },
  {
   "cell_type": "code",
   "execution_count": 307,
   "id": "0b2c9824",
   "metadata": {},
   "outputs": [
    {
     "name": "stdout",
     "output_type": "stream",
     "text": [
      "The theoretic process fidelity for the target clifford gate is 0.953053489883718\n",
      "The fidelity of the error channel is 0.9507909548334473\n",
      "The fidelity of the interleaved error channel is 0.9505173523084842\n"
     ]
    }
   ],
   "source": [
    "p_target_list = np.arange(0.999, 0.999 - (4**num_qubit - 1) * 0.007 + 0.0001, - 0.007)\n",
    "Pauli_chan = PauliChan_surerrep(p_target_list)\n",
    "\n",
    "c = 0.01\n",
    "channel_co = (1j * c * qtcir.swap()).expm()\n",
    "channel_co_superrep = unitary_superrep(channel_co, Pauli_group)\n",
    "\n",
    "TargetGate_channel4 = np.dot(channel_co_superrep, Pauli_chan)\n",
    "print('The theoretic process fidelity for the target clifford gate is', process_fidelity(TargetGate_channel4))\n",
    "\n",
    "channel = np.dot(Pauli_channel, TargetGate_channel4)\n",
    "ini_fidelity4 = process_fidelity(channel)\n",
    "print('The fidelity of the error channel is', ini_fidelity4)\n",
    "\n",
    "channel_Pauli_twirling = twirling(channel, twirling_group)\n",
    "inter_channel = sqrtm(chop(np.dot(channel_Pauli_twirling, np.dot(np.dot(int_gate, channel_Pauli_twirling), int_gate.T.conjugate()))))\n",
    "inter_fidelity4 = np.trace(inter_channel) / 4**num_qubit\n",
    "print('The fidelity of the interleaved error channel is', inter_fidelity4)"
   ]
  },
  {
   "cell_type": "code",
   "execution_count": 385,
   "id": "9718622c",
   "metadata": {},
   "outputs": [],
   "source": [
    "seq_length_total4 = 24\n",
    "seq_length_step4 = 2"
   ]
  },
  {
   "cell_type": "code",
   "execution_count": 386,
   "id": "e9b84878",
   "metadata": {},
   "outputs": [],
   "source": [
    "full24 = fullRB_fitting_analysis(40, 10, 50, seq_length_total4, seq_length_step4, int_gate, SPAM_channel, ref_gate_channel, TargetGate_channel4)"
   ]
  },
  {
   "cell_type": "code",
   "execution_count": 314,
   "id": "b492bca3",
   "metadata": {},
   "outputs": [],
   "source": [
    "fast24 = fastRB_fitting_analysis(40, 50, seq_length_total4, seq_length_step4, int_gate, SPAM_channel, ref_gate_channel, TargetGate_channel4)"
   ]
  },
  {
   "cell_type": "code",
   "execution_count": 315,
   "id": "43c03a7f",
   "metadata": {},
   "outputs": [
    {
     "data": {
      "image/png": "[encoded data removed]",
      "text/plain": [
       "<Figure size 432x288 with 1 Axes>"
      ]
     },
     "metadata": {
      "needs_background": "light"
     },
     "output_type": "display_data"
    }
   ],
   "source": [
    "l1, = plt.plot(range(1, 41), full24, color = \"b\", linestyle = \"--\", marker = \"*\", linewidth = 1.0)\n",
    "l2, = plt.plot(range(1, 41), fast24, color = \"g\", linestyle = \"--\", marker = \"*\", linewidth = 1.0)\n",
    "plt.plot(range(1, 41), zeros(40) + ini_fidelity4, color = \"r\", linewidth = 2.0)\n",
    "plt.plot(range(1, 41), zeros(40) + inter_fidelity4, color = \"r\", linestyle = \"--\", linewidth = 2.0)\n",
    "plt.xlim((0, 42))\n",
    "plt.ylim((0.94, 0.97))\n",
    "plt.xlabel(\"Experiment\")\n",
    "plt.ylabel(\"Fidelity\")\n",
    "plt.legend([l1, l2], ['CCB fidelity', 'FB fidelity'], loc = 'upper right')\n",
    "plt.show()"
   ]
  },
  {
   "cell_type": "markdown",
   "id": "1134b972",
   "metadata": {},
   "source": [
    "#### (5) p_max = 0.999, delta = 0.009"
   ]
  },
  {
   "cell_type": "code",
   "execution_count": 318,
   "id": "6b131d47",
   "metadata": {},
   "outputs": [
    {
     "name": "stdout",
     "output_type": "stream",
     "text": [
      "The theoretic process fidelity for the target clifford gate is 0.9399294648512184\n",
      "The fidelity of the error channel is 0.9377054709522938\n",
      "The fidelity of the interleaved error channel is 0.9372504974910489\n"
     ]
    }
   ],
   "source": [
    "p_target_list = np.arange(0.999, 0.999 - (4**num_qubit - 1) * 0.009 + 0.0001, - 0.009)\n",
    "Pauli_chan = PauliChan_surerrep(p_target_list)\n",
    "\n",
    "c = 0.01\n",
    "channel_co = (1j * c * qtcir.swap()).expm()\n",
    "channel_co_superrep = unitary_superrep(channel_co, Pauli_group)\n",
    "\n",
    "TargetGate_channel5 = np.dot(channel_co_superrep, Pauli_chan)\n",
    "print('The theoretic process fidelity for the target clifford gate is', process_fidelity(TargetGate_channel5))\n",
    "\n",
    "channel = np.dot(Pauli_channel, TargetGate_channel5)\n",
    "ini_fidelity5 = process_fidelity(channel)\n",
    "print('The fidelity of the error channel is', ini_fidelity5)\n",
    "\n",
    "channel_Pauli_twirling = twirling(channel, twirling_group)\n",
    "inter_channel = sqrtm(chop(np.dot(channel_Pauli_twirling, np.dot(np.dot(int_gate, channel_Pauli_twirling), int_gate.T.conjugate()))))\n",
    "inter_fidelity5 = np.trace(inter_channel) / 4**num_qubit\n",
    "print('The fidelity of the interleaved error channel is', inter_fidelity5)"
   ]
  },
  {
   "cell_type": "code",
   "execution_count": 320,
   "id": "87b1e2a0",
   "metadata": {},
   "outputs": [],
   "source": [
    "seq_length_total5 = 20\n",
    "seq_length_step5 = 2"
   ]
  },
  {
   "cell_type": "code",
   "execution_count": 321,
   "id": "6cae0e81",
   "metadata": {},
   "outputs": [],
   "source": [
    "full25 = fullRB_fitting_analysis(40, 10, 50, seq_length_total5, seq_length_step5, int_gate, SPAM_channel, ref_gate_channel, TargetGate_channel5)"
   ]
  },
  {
   "cell_type": "code",
   "execution_count": 322,
   "id": "75144433",
   "metadata": {},
   "outputs": [],
   "source": [
    "fast25 = fastRB_fitting_analysis(40, 50, seq_length_total5, seq_length_step5, int_gate, SPAM_channel, ref_gate_channel, TargetGate_channel5)"
   ]
  },
  {
   "cell_type": "code",
   "execution_count": 323,
   "id": "86d36f3a",
   "metadata": {
    "scrolled": false
   },
   "outputs": [
    {
     "data": {
      "image/png": "[encoded data removed]",
      "text/plain": [
       "<Figure size 432x288 with 1 Axes>"
      ]
     },
     "metadata": {
      "needs_background": "light"
     },
     "output_type": "display_data"
    }
   ],
   "source": [
    "l1, = plt.plot(range(1, 41), full5, color = \"b\", linestyle = \"--\", marker = \"*\", linewidth = 1.0)\n",
    "l2, = plt.plot(range(1, 41), fast5, color = \"g\", linestyle = \"--\", marker = \"*\", linewidth = 1.0)\n",
    "plt.plot(range(1, 41), zeros(40) + ini_fidelity5, color = \"r\", linewidth = 2.0)\n",
    "plt.plot(range(1, 41), zeros(40) + inter_fidelity5, color = \"r\", linestyle = \"--\", linewidth = 2.0)\n",
    "plt.xlim((0, 42))\n",
    "plt.ylim((0.92, 0.95))\n",
    "plt.xlabel(\"Experiment\")\n",
    "plt.ylabel(\"Fidelity\")\n",
    "plt.legend([l1, l2], ['CCB fidelity', 'FB fidelity'], loc = 'upper right')\n",
    "plt.show()"
   ]
  },
  {
   "cell_type": "markdown",
   "id": "9a20024e",
   "metadata": {},
   "source": [
    "#### (6) p_max = 0.999, delta = 0.011"
   ]
  },
  {
   "cell_type": "code",
   "execution_count": 325,
   "id": "1f27d915",
   "metadata": {},
   "outputs": [
    {
     "name": "stdout",
     "output_type": "stream",
     "text": [
      "The theoretic process fidelity for the target clifford gate is 0.9268054398187189\n",
      "The fidelity of the error channel is 0.9246199870711405\n",
      "The fidelity of the interleaved error channel is 0.9239334956498306\n"
     ]
    }
   ],
   "source": [
    "p_target_list = np.arange(0.999, 0.999 - (4**num_qubit - 1) * 0.011 + 0.0001, - 0.011)\n",
    "Pauli_chan = PauliChan_surerrep(p_target_list)\n",
    "\n",
    "c = 0.01\n",
    "channel_co = (1j * c * qtcir.swap()).expm()\n",
    "channel_co_superrep = unitary_superrep(channel_co, Pauli_group)\n",
    "\n",
    "TargetGate_channel6 = np.dot(channel_co_superrep, Pauli_chan)\n",
    "print('The theoretic process fidelity for the target clifford gate is', process_fidelity(TargetGate_channel6))\n",
    "\n",
    "channel = np.dot(Pauli_channel, TargetGate_channel6)\n",
    "ini_fidelity6 = process_fidelity(channel)\n",
    "print('The fidelity of the error channel is', ini_fidelity6)\n",
    "\n",
    "channel_Pauli_twirling = twirling(channel, twirling_group)\n",
    "inter_channel = sqrtm(chop(np.dot(channel_Pauli_twirling, np.dot(np.dot(int_gate, channel_Pauli_twirling), int_gate.T.conjugate()))))\n",
    "inter_fidelity6 = np.trace(inter_channel) / 4**num_qubit\n",
    "print('The fidelity of the interleaved error channel is', inter_fidelity6)"
   ]
  },
  {
   "cell_type": "code",
   "execution_count": 327,
   "id": "3895f2b8",
   "metadata": {},
   "outputs": [],
   "source": [
    "seq_length_total6 = 20\n",
    "seq_length_step6 = 2"
   ]
  },
  {
   "cell_type": "code",
   "execution_count": 328,
   "id": "f7712917",
   "metadata": {},
   "outputs": [],
   "source": [
    "full26 = fullRB_fitting_analysis(40, 10, 50, seq_length_total6, seq_length_step6, int_gate, SPAM_channel, ref_gate_channel, TargetGate_channel6)"
   ]
  },
  {
   "cell_type": "code",
   "execution_count": 329,
   "id": "1210817e",
   "metadata": {},
   "outputs": [],
   "source": [
    "fast26 = fastRB_fitting_analysis(40, 50, seq_length_total6, seq_length_step6, int_gate, SPAM_channel, ref_gate_channel, TargetGate_channel6)"
   ]
  },
  {
   "cell_type": "code",
   "execution_count": 330,
   "id": "ae600f11",
   "metadata": {},
   "outputs": [
    {
     "data": {
      "image/png": "[encoded data removed]",
      "text/plain": [
       "<Figure size 432x288 with 1 Axes>"
      ]
     },
     "metadata": {
      "needs_background": "light"
     },
     "output_type": "display_data"
    }
   ],
   "source": [
    "l1, = plt.plot(range(1, 41), full6, color = \"b\", linestyle = \"--\", marker = \"*\", linewidth = 1.0)\n",
    "l2, = plt.plot(range(1, 41), fast6, color = \"g\", linestyle = \"--\", marker = \"*\", linewidth = 1.0)\n",
    "plt.plot(range(1, 41), zeros(40) + ini_fidelity6, color = \"r\", linewidth = 2.0)\n",
    "plt.plot(range(1, 41), zeros(40) + inter_fidelity6, color = \"r\", linestyle = \"--\", linewidth = 2.0)\n",
    "plt.xlim((0, 42))\n",
    "plt.ylim((0.91, 0.935))\n",
    "plt.xlabel(\"Experiment\")\n",
    "plt.ylabel(\"Fidelity\")\n",
    "plt.legend([l1, l2], ['CCB fidelity', 'FB fidelity'], loc = 'upper right')\n",
    "plt.show()"
   ]
  },
  {
   "cell_type": "markdown",
   "id": "0011123c",
   "metadata": {},
   "source": [
    "#### (7)  p_max = 0.999, delta = 0.002"
   ]
  },
  {
   "cell_type": "code",
   "execution_count": 337,
   "id": "73b09326",
   "metadata": {},
   "outputs": [
    {
     "name": "stdout",
     "output_type": "stream",
     "text": [
      "The theoretic process fidelity for the target clifford gate is 0.985863552464967\n",
      "The fidelity of the error channel is 0.983504664536331\n",
      "The fidelity of the interleaved error channel is 0.9834806152491513\n"
     ]
    }
   ],
   "source": [
    "p_target_list = np.arange(0.999, 0.999 - (4**num_qubit - 1) * 0.002 + 0.0001, - 0.002)\n",
    "Pauli_chan = PauliChan_surerrep(p_target_list)\n",
    "\n",
    "c = 0.01\n",
    "channel_co = (1j * c * qtcir.swap()).expm()\n",
    "channel_co_superrep = unitary_superrep(channel_co, Pauli_group)\n",
    "\n",
    "TargetGate_channel7 = np.dot(channel_co_superrep, Pauli_chan)\n",
    "print('The theoretic process fidelity for the target clifford gate is', process_fidelity(TargetGate_channel7))\n",
    "\n",
    "channel = np.dot(Pauli_channel, TargetGate_channel7)\n",
    "ini_fidelity7 = process_fidelity(channel)\n",
    "print('The fidelity of the error channel is', ini_fidelity7)\n",
    "\n",
    "channel_Pauli_twirling = twirling(channel, twirling_group)\n",
    "inter_channel = sqrtm(chop(np.dot(channel_Pauli_twirling, np.dot(np.dot(int_gate, channel_Pauli_twirling), int_gate.T.conjugate()))))\n",
    "inter_fidelity7 = np.trace(inter_channel) / 4**num_qubit\n",
    "print('The fidelity of the interleaved error channel is', inter_fidelity7)"
   ]
  },
  {
   "cell_type": "code",
   "execution_count": 338,
   "id": "9291980d",
   "metadata": {},
   "outputs": [],
   "source": [
    "seq_length_total7 = 60\n",
    "seq_length_step7 = 6"
   ]
  },
  {
   "cell_type": "code",
   "execution_count": 339,
   "id": "a6eb9b45",
   "metadata": {},
   "outputs": [],
   "source": [
    "full27 = fullRB_fitting_analysis(40, 10, 50, seq_length_total7, seq_length_step7, int_gate, SPAM_channel, ref_gate_channel, TargetGate_channel7)"
   ]
  },
  {
   "cell_type": "code",
   "execution_count": 340,
   "id": "8164bcc1",
   "metadata": {},
   "outputs": [],
   "source": [
    "fast27 = fastRB_fitting_analysis(40, 50, seq_length_total7, seq_length_step7, int_gate, SPAM_channel, ref_gate_channel, TargetGate_channel7)"
   ]
  },
  {
   "cell_type": "code",
   "execution_count": 380,
   "id": "b62c10e5",
   "metadata": {},
   "outputs": [
    {
     "data": {
      "image/png": "[encoded data removed]",
      "text/plain": [
       "<Figure size 432x288 with 1 Axes>"
      ]
     },
     "metadata": {
      "needs_background": "light"
     },
     "output_type": "display_data"
    }
   ],
   "source": [
    "l1, = plt.plot(range(1, 41), full27, color = \"b\", linestyle = \"--\", marker = \"*\", linewidth = 1.0)\n",
    "l2, = plt.plot(range(1, 41), fast27, color = \"g\", linestyle = \"--\", marker = \"*\", linewidth = 1.0)\n",
    "plt.plot(range(1, 41), zeros(40) + ini_fidelity7, color = \"r\", linewidth = 2.0)\n",
    "plt.plot(range(1, 41), zeros(40) + inter_fidelity7, color = \"r\", linestyle = \"--\", linewidth = 2.0)\n",
    "plt.xlim((0, 42))\n",
    "plt.ylim((0.97, 0.99))\n",
    "plt.xlabel(\"Experiment\")\n",
    "plt.ylabel(\"Fidelity\")\n",
    "plt.legend([l1, l2], ['CCB fidelity', 'FB fidelity'], loc = 'upper right')\n",
    "plt.show()"
   ]
  },
  {
   "cell_type": "markdown",
   "id": "a56d2fcc",
   "metadata": {},
   "source": [
    "#### (8) p_max = 0.999, delta = 0.004"
   ]
  },
  {
   "cell_type": "code",
   "execution_count": 342,
   "id": "151c1b53",
   "metadata": {},
   "outputs": [
    {
     "name": "stdout",
     "output_type": "stream",
     "text": [
      "The theoretic process fidelity for the target clifford gate is 0.9727395274324673\n",
      "The fidelity of the error channel is 0.9704191806551774\n",
      "The fidelity of the interleaved error channel is 0.9703288769037108\n"
     ]
    }
   ],
   "source": [
    "p_target_list = np.arange(0.999, 0.999 - (4**num_qubit - 1) * 0.004 + 0.0001, - 0.004)\n",
    "Pauli_chan = PauliChan_surerrep(p_target_list)\n",
    "\n",
    "c = 0.01\n",
    "channel_co = (1j * c * qtcir.swap()).expm()\n",
    "channel_co_superrep = unitary_superrep(channel_co, Pauli_group)\n",
    "\n",
    "TargetGate_channel8 = np.dot(channel_co_superrep, Pauli_chan)\n",
    "print('The theoretic process fidelity for the target clifford gate is', process_fidelity(TargetGate_channel8))\n",
    "\n",
    "channel = np.dot(Pauli_channel, TargetGate_channel8)\n",
    "ini_fidelity8 = process_fidelity(channel)\n",
    "print('The fidelity of the error channel is', ini_fidelity8)\n",
    "\n",
    "channel_Pauli_twirling = twirling(channel, twirling_group)\n",
    "inter_channel = sqrtm(chop(np.dot(channel_Pauli_twirling, np.dot(np.dot(int_gate, channel_Pauli_twirling), int_gate.T.conjugate()))))\n",
    "inter_fidelity8 = np.trace(inter_channel) / 4**num_qubit\n",
    "print('The fidelity of the interleaved error channel is', inter_fidelity8)"
   ]
  },
  {
   "cell_type": "code",
   "execution_count": 343,
   "id": "039e10eb",
   "metadata": {},
   "outputs": [],
   "source": [
    "seq_length_total8 = 60\n",
    "seq_length_step8 = 6"
   ]
  },
  {
   "cell_type": "code",
   "execution_count": 382,
   "id": "2decc822",
   "metadata": {},
   "outputs": [],
   "source": [
    "full28 = fullRB_fitting_analysis(40, 10, 50, seq_length_total8, seq_length_step8, int_gate, SPAM_channel, ref_gate_channel, TargetGate_channel8)"
   ]
  },
  {
   "cell_type": "code",
   "execution_count": 347,
   "id": "3919a22b",
   "metadata": {},
   "outputs": [],
   "source": [
    "fast28 = fastRB_fitting_analysis(40, 50, seq_length_total8, seq_length_step8, int_gate, SPAM_channel, ref_gate_channel, TargetGate_channel8)"
   ]
  },
  {
   "cell_type": "code",
   "execution_count": 383,
   "id": "f4701082",
   "metadata": {},
   "outputs": [
    {
     "data": {
      "image/png": "[encoded data removed]",
      "text/plain": [
       "<Figure size 432x288 with 1 Axes>"
      ]
     },
     "metadata": {
      "needs_background": "light"
     },
     "output_type": "display_data"
    }
   ],
   "source": [
    "l1, = plt.plot(range(1, 41), full28, color = \"b\", linestyle = \"--\", marker = \"*\", linewidth = 1.0)\n",
    "l2, = plt.plot(range(1, 41), fast28, color = \"g\", linestyle = \"--\", marker = \"*\", linewidth = 1.0)\n",
    "plt.plot(range(1, 41), zeros(40) + ini_fidelity8, color = \"r\", linewidth = 2.0)\n",
    "plt.plot(range(1, 41), zeros(40) + inter_fidelity8, color = \"r\", linestyle = \"--\", linewidth = 2.0)\n",
    "plt.xlim((0, 42))\n",
    "plt.ylim((0.96, 0.99))\n",
    "plt.xlabel(\"Experiment\")\n",
    "plt.ylabel(\"Fidelity\")\n",
    "plt.legend([l1, l2], ['CCB fidelity', 'FB fidelity'], loc = 'upper right')\n",
    "plt.show()"
   ]
  },
  {
   "cell_type": "markdown",
   "id": "daaa5525",
   "metadata": {},
   "source": [
    "#### (9) p_max = 0.999, delta = 0.006"
   ]
  },
  {
   "cell_type": "code",
   "execution_count": 360,
   "id": "357577b3",
   "metadata": {},
   "outputs": [
    {
     "name": "stdout",
     "output_type": "stream",
     "text": [
      "The theoretic process fidelity for the target clifford gate is 0.9596155023999678\n",
      "The fidelity of the error channel is 0.957333696774024\n",
      "The fidelity of the interleaved error channel is 0.9571327412893771\n"
     ]
    }
   ],
   "source": [
    "p_target_list = np.arange(0.999, 0.999 - (4**num_qubit - 1) * 0.006 + 0.0001, - 0.006)\n",
    "Pauli_chan = PauliChan_surerrep(p_target_list)\n",
    "\n",
    "c = 0.01\n",
    "channel_co = (1j * c * qtcir.swap()).expm()\n",
    "channel_co_superrep = unitary_superrep(channel_co, Pauli_group)\n",
    "\n",
    "TargetGate_channel9 = np.dot(channel_co_superrep, Pauli_chan)\n",
    "print('The theoretic process fidelity for the target clifford gate is', process_fidelity(TargetGate_channel9))\n",
    "\n",
    "channel = np.dot(Pauli_channel, TargetGate_channel9)\n",
    "ini_fidelity9 = process_fidelity(channel)\n",
    "print('The fidelity of the error channel is', ini_fidelity9)\n",
    "\n",
    "channel_Pauli_twirling = twirling(channel, twirling_group)\n",
    "inter_channel = sqrtm(chop(np.dot(channel_Pauli_twirling, np.dot(np.dot(int_gate, channel_Pauli_twirling), int_gate.T.conjugate()))))\n",
    "inter_fidelity9 = np.trace(inter_channel) / 4**num_qubit\n",
    "print('The fidelity of the interleaved error channel is', inter_fidelity9)"
   ]
  },
  {
   "cell_type": "code",
   "execution_count": 361,
   "id": "d6274f9d",
   "metadata": {},
   "outputs": [],
   "source": [
    "seq_length_total9 = 24\n",
    "seq_length_step9 = 2"
   ]
  },
  {
   "cell_type": "code",
   "execution_count": 363,
   "id": "8cfd55cd",
   "metadata": {},
   "outputs": [],
   "source": [
    "full29 = fullRB_fitting_analysis(40, 10, 50, seq_length_total9, seq_length_step9, int_gate, SPAM_channel, ref_gate_channel, TargetGate_channel9)"
   ]
  },
  {
   "cell_type": "code",
   "execution_count": 365,
   "id": "c3af7dd5",
   "metadata": {},
   "outputs": [],
   "source": [
    "fast29 = fastRB_fitting_analysis(40, 50, seq_length_total9, seq_length_step9, int_gate, SPAM_channel, ref_gate_channel, TargetGate_channel9)"
   ]
  },
  {
   "cell_type": "code",
   "execution_count": 367,
   "id": "046a7442",
   "metadata": {},
   "outputs": [
    {
     "data": {
      "image/png": "[encoded data removed]",
      "text/plain": [
       "<Figure size 432x288 with 1 Axes>"
      ]
     },
     "metadata": {
      "needs_background": "light"
     },
     "output_type": "display_data"
    }
   ],
   "source": [
    "l1, = plt.plot(range(1, 41), full29, color = \"b\", linestyle = \"--\", marker = \"*\", linewidth = 1.0)\n",
    "l2, = plt.plot(range(1, 41), fast29, color = \"g\", linestyle = \"--\", marker = \"*\", linewidth = 1.0)\n",
    "plt.plot(range(1, 41), zeros(40) + ini_fidelity9, color = \"r\", linewidth = 2.0)\n",
    "plt.plot(range(1, 41), zeros(40) + inter_fidelity9, color = \"r\", linestyle = \"--\", linewidth = 2.0)\n",
    "plt.xlim((0, 42))\n",
    "plt.ylim((0.94, 0.975))\n",
    "plt.xlabel(\"Experiment\")\n",
    "plt.ylabel(\"Fidelity\")\n",
    "plt.legend([l1, l2], ['CCB fidelity', 'FB fidelity'], loc = 'upper right')\n",
    "plt.show()"
   ]
  },
  {
   "cell_type": "markdown",
   "id": "de20b047",
   "metadata": {},
   "source": [
    "#### (10) p_max = 0.999, delta = 0.008"
   ]
  },
  {
   "cell_type": "code",
   "execution_count": 374,
   "id": "183bdca5",
   "metadata": {},
   "outputs": [
    {
     "name": "stdout",
     "output_type": "stream",
     "text": [
      "The theoretic process fidelity for the target clifford gate is 0.9464914773674682\n",
      "The fidelity of the error channel is 0.9442482128928705\n",
      "The fidelity of the interleaved error channel is 0.9438900369915203\n"
     ]
    }
   ],
   "source": [
    "p_target_list = np.arange(0.999, 0.999 - (4**num_qubit - 1) * 0.008 + 0.0001, - 0.008)\n",
    "Pauli_chan = PauliChan_surerrep(p_target_list)\n",
    "\n",
    "c = 0.01\n",
    "channel_co = (1j * c * qtcir.swap()).expm()\n",
    "channel_co_superrep = unitary_superrep(channel_co, Pauli_group)\n",
    "\n",
    "TargetGate_channel10 = np.dot(channel_co_superrep, Pauli_chan)\n",
    "print('The theoretic process fidelity for the target clifford gate is', process_fidelity(TargetGate_channel10))\n",
    "\n",
    "channel = np.dot(Pauli_channel, TargetGate_channel10)\n",
    "ini_fidelity10 = process_fidelity(channel)\n",
    "print('The fidelity of the error channel is', ini_fidelity10)\n",
    "\n",
    "channel_Pauli_twirling = twirling(channel, twirling_group)\n",
    "inter_channel = sqrtm(chop(np.dot(channel_Pauli_twirling, np.dot(np.dot(int_gate, channel_Pauli_twirling), int_gate.T.conjugate()))))\n",
    "inter_fidelity10 = np.trace(inter_channel) / 4**num_qubit\n",
    "print('The fidelity of the interleaved error channel is', inter_fidelity10)"
   ]
  },
  {
   "cell_type": "code",
   "execution_count": 375,
   "id": "2ef26fa3",
   "metadata": {},
   "outputs": [],
   "source": [
    "seq_length_total10 = 24\n",
    "seq_length_step10 = 2"
   ]
  },
  {
   "cell_type": "code",
   "execution_count": 376,
   "id": "923585af",
   "metadata": {},
   "outputs": [],
   "source": [
    "full210 = fullRB_fitting_analysis(40, 10, 50, seq_length_total10, seq_length_step10, int_gate, SPAM_channel, ref_gate_channel, TargetGate_channel10)"
   ]
  },
  {
   "cell_type": "code",
   "execution_count": 377,
   "id": "f1bf9dc8",
   "metadata": {},
   "outputs": [],
   "source": [
    "fast210 = fastRB_fitting_analysis(40, 50, seq_length_total10, seq_length_step10, int_gate, SPAM_channel, ref_gate_channel, TargetGate_channel10)"
   ]
  },
  {
   "cell_type": "code",
   "execution_count": 367,
   "id": "dac49ac0",
   "metadata": {},
   "outputs": [
    {
     "data": {
      "image/png": "[encoded data removed]",
      "text/plain": [
       "<Figure size 432x288 with 1 Axes>"
      ]
     },
     "metadata": {
      "needs_background": "light"
     },
     "output_type": "display_data"
    }
   ],
   "source": [
    "l1, = plt.plot(range(1, 41), full210, color = \"b\", linestyle = \"--\", marker = \"*\", linewidth = 1.0)\n",
    "l2, = plt.plot(range(1, 41), fast210, color = \"g\", linestyle = \"--\", marker = \"*\", linewidth = 1.0)\n",
    "plt.plot(range(1, 41), zeros(40) + ini_fidelity10, color = \"r\", linewidth = 2.0)\n",
    "plt.plot(range(1, 41), zeros(40) + inter_fidelity10, color = \"r\", linestyle = \"--\", linewidth = 2.0)\n",
    "plt.xlim((0, 42))\n",
    "plt.ylim((0.935, 0.955))\n",
    "plt.xlabel(\"Experiment\")\n",
    "plt.ylabel(\"Fidelity\")\n",
    "plt.legend([l1, l2], ['CCB fidelity', 'FB fidelity'], loc = 'upper right')\n",
    "plt.show()"
   ]
  },
  {
   "cell_type": "code",
   "execution_count": 402,
   "id": "8fd2a74c",
   "metadata": {},
   "outputs": [
    {
     "data": {
      "image/png": "[encoded data removed]",
      "text/plain": [
       "<Figure size 576x432 with 1 Axes>"
      ]
     },
     "metadata": {
      "needs_background": "light"
     },
     "output_type": "display_data"
    }
   ],
   "source": [
    "full_mean = [np.mean(full21), np.mean(full27), np.mean(full22), np.mean(full28), np.mean(full23), np.mean(full29), np.mean(full24), np.mean(full210), np.mean(full25)]\n",
    "fast_mean = [np.mean(fast21), np.mean(fast27), np.mean(fast22), np.mean(fast28), np.mean(fast23), np.mean(fast29), np.mean(fast24), np.mean(fast210), np.mean(fast25)]\n",
    "full_std = [np.std(full21), np.std(full27), np.std(full22), np.std(full28), np.std(full23), np.std(full29), np.std(full24), np.std(full210), np.std(full25)]\n",
    "fast_std = [np.std(fast21), np.std(fast27), np.std(fast22), np.std(fast28), np.std(fast23), np.std(fast29), np.std(fast24), np.std(fast210), np.std(fast25)]\n",
    "ideal_error = [1-ini_fidelity1, 1-ini_fidelity7, 1-ini_fidelity2, 1-ini_fidelity8, 1-ini_fidelity3, 1-ini_fidelity9, 1-ini_fidelity4, 1-ini_fidelity10, 1-ini_fidelity5]\n",
    "ideal_fidelity = [ini_fidelity1, ini_fidelity7, ini_fidelity2, ini_fidelity8, ini_fidelity3, ini_fidelity9, ini_fidelity4, ini_fidelity10, ini_fidelity5]\n",
    "\n",
    "plt.figure(figsize = (8, 6))\n",
    "plt.errorbar(ideal_error, full_mean, yerr = full_std, fmt='o',ecolor='b',color='b',elinewidth = 1,capsize=8)\n",
    "plt.errorbar(ideal_error, fast_mean, yerr = fast_std, fmt='*',ecolor='r',color='r',elinewidth = 1,capsize=8)\n",
    "plt.legend([\"CCB\", \"FB\"], loc = 'upper right') \n",
    "\n",
    "plt.xlabel(\"Error rate\", fontsize = 16)\n",
    "plt.ylabel(\"Fidelity\", fontsize = 16)\n",
    "plt.xticks(fontsize = 12)\n",
    "plt.yticks(fontsize = 12)\n",
    "\n",
    "plt.plot(ideal_error, ideal_fidelity, color = \"g\", linestyle = \"--\", marker = \"*\", linewidth = 2.0)\n",
    "plt.savefig('fast_full_error.pdf')"
   ]
  },
  {
   "cell_type": "markdown",
   "id": "6cc1a928",
   "metadata": {},
   "source": [
    "### Fast fitting figure"
   ]
  },
  {
   "cell_type": "code",
   "execution_count": 403,
   "id": "1d2714e9",
   "metadata": {},
   "outputs": [
    {
     "name": "stdout",
     "output_type": "stream",
     "text": [
      "The theoretic process fidelity for the target clifford gate is 0.985863552464967\n",
      "The fidelity of the error channel is 0.983504664536331\n",
      "The fidelity of the interleaved error channel is 0.9834806152491513\n"
     ]
    }
   ],
   "source": [
    "p_target_list = np.arange(0.999, 0.999 - (4**num_qubit - 1) * 0.002 + 0.0001, - 0.002)\n",
    "Pauli_chan = PauliChan_surerrep(p_target_list)\n",
    "\n",
    "c = 0.01\n",
    "channel_co = (1j * c * qtcir.swap()).expm()\n",
    "channel_co_superrep = unitary_superrep(channel_co, Pauli_group)\n",
    "\n",
    "TargetGate_channel_fast = np.dot(channel_co_superrep, Pauli_chan)\n",
    "print('The theoretic process fidelity for the target clifford gate is', process_fidelity(TargetGate_channel_fast))\n",
    "\n",
    "channel = np.dot(Pauli_channel, TargetGate_channel_fast)\n",
    "ini_fidelity_fast = process_fidelity(channel)\n",
    "print('The fidelity of the error channel is', ini_fidelity_fast)\n",
    "\n",
    "channel_Pauli_twirling = twirling(channel, twirling_group)\n",
    "inter_channel = sqrtm(chop(np.dot(channel_Pauli_twirling, np.dot(np.dot(int_gate, channel_Pauli_twirling), int_gate.T.conjugate()))))\n",
    "inter_fidelity_fast = np.trace(inter_channel) / 4**num_qubit\n",
    "print('The fidelity of the interleaved error channel is', inter_fidelity_fast)"
   ]
  },
  {
   "cell_type": "code",
   "execution_count": 407,
   "id": "8d6c46d1",
   "metadata": {},
   "outputs": [],
   "source": [
    "seq_length_total_fast = 67\n",
    "seq_length_step_fast = 6"
   ]
  },
  {
   "cell_type": "code",
   "execution_count": 408,
   "id": "5a202dc5",
   "metadata": {},
   "outputs": [
    {
     "data": {
      "text/plain": [
       "<Figure size 576x432 with 0 Axes>"
      ]
     },
     "metadata": {},
     "output_type": "display_data"
    }
   ],
   "source": [
    "fitting_pre = fast_fitting_pre(80, 50, seq_length_total_fast, seq_length_step_fast, int_gate, SPAM_channel, ref_gate_channel, TargetGate_channel_fast)"
   ]
  },
  {
   "cell_type": "code",
   "execution_count": 413,
   "id": "b386f40b",
   "metadata": {},
   "outputs": [
    {
     "data": {
      "image/png": "[encoded data removed]",
      "text/plain": [
       "<Figure size 576x432 with 1 Axes>"
      ]
     },
     "metadata": {
      "needs_background": "light"
     },
     "output_type": "display_data"
    }
   ],
   "source": [
    "fast_fitting_figure(fitting_pre, seq_length_step)"
   ]
  },
  {
   "cell_type": "code",
   "execution_count": null,
   "id": "85ad888e",
   "metadata": {},
   "outputs": [],
   "source": []
  }
 ],
 "metadata": {
  "kernelspec": {
   "display_name": "Python 3",
   "language": "python",
   "name": "python3"
  },
  "language_info": {
   "codemirror_mode": {
    "name": "ipython",
    "version": 3
   },
   "file_extension": ".py",
   "mimetype": "text/x-python",
   "name": "python",
   "nbconvert_exporter": "python",
   "pygments_lexer": "ipython3",
   "version": "3.8.10"
  }
 },
 "nbformat": 4,
 "nbformat_minor": 5
}
